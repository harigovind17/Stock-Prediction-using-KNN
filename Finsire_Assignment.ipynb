{
  "nbformat": 4,
  "nbformat_minor": 0,
  "metadata": {
    "colab": {
      "provenance": [],
      "mount_file_id": "1k7Hda5H8pvXikSBExIe1X1i63Nrmu_fj",
      "authorship_tag": "ABX9TyPfsIwPIXW2jRiaZfp8iqBV",
      "include_colab_link": true
    },
    "kernelspec": {
      "name": "python3",
      "display_name": "Python 3"
    },
    "language_info": {
      "name": "python"
    }
  },
  "cells": [
    {
      "cell_type": "markdown",
      "metadata": {
        "id": "view-in-github",
        "colab_type": "text"
      },
      "source": [
        "<a href=\"https://colab.research.google.com/github/harigovind17/Stock-Prediction-using-KNN/blob/main/Finsire_Assignment.ipynb\" target=\"_parent\"><img src=\"https://colab.research.google.com/assets/colab-badge.svg\" alt=\"Open In Colab\"/></a>"
      ]
    },
    {
      "cell_type": "markdown",
      "source": [
        "# Finsire Assignment\n",
        "\n",
        "About the Dataset:\n",
        "Bank Marketing Dataset\n",
        "\n",
        "The dataset, from the UCI ML Repository, provides insights into a financial institution's marketing campaign. Analyzing it aims to enhance future strategies for improved marketing outcomes.\n",
        "\n",
        "\n",
        "Problem Statement:\n",
        "\n",
        "The goal is to predict if the customer will subscribe to a term deposit (variable Y)\n",
        "\n"
      ],
      "metadata": {
        "id": "EvVnDbiXLGYY"
      }
    },
    {
      "cell_type": "code",
      "execution_count": 2,
      "metadata": {
        "id": "hNRo0JpUIkpY"
      },
      "outputs": [],
      "source": [
        "# importing necesary dependancies\n",
        "import numpy as np\n",
        "import pandas as pd\n",
        "import matplotlib.pyplot as plt\n",
        "import seaborn as sb\n",
        "\n",
        "from sklearn.model_selection import train_test_split\n",
        "from sklearn.preprocessing import StandardScaler\n",
        "from sklearn.linear_model import LogisticRegression\n",
        "from sklearn.svm import SVC\n",
        "from xgboost import XGBClassifier\n",
        "from sklearn import metrics\n",
        "import plotly.express as px\n",
        "from plotly.offline import iplot\n",
        "import warnings\n",
        "warnings.filterwarnings('ignore')"
      ]
    },
    {
      "cell_type": "code",
      "source": [
        "df = pd.read_csv(\"/bank.csv\")\n",
        "df.head(10)"
      ],
      "metadata": {
        "colab": {
          "base_uri": "https://localhost:8080/",
          "height": 383
        },
        "id": "ccetL8_vMxMq",
        "outputId": "2f3f3b3b-19f3-4b84-f526-6413dbce7689"
      },
      "execution_count": 3,
      "outputs": [
        {
          "output_type": "execute_result",
          "data": {
            "text/plain": [
              "   age         job   marital  education default  balance housing loan  \\\n",
              "0   59      admin.   married  secondary      no     2343     yes   no   \n",
              "1   56      admin.   married  secondary      no       45      no   no   \n",
              "2   41  technician   married  secondary      no     1270     yes   no   \n",
              "3   55    services   married  secondary      no     2476     yes   no   \n",
              "4   54      admin.   married   tertiary      no      184      no   no   \n",
              "5   42  management    single   tertiary      no        0     yes  yes   \n",
              "6   56  management   married   tertiary      no      830     yes  yes   \n",
              "7   60     retired  divorced  secondary      no      545     yes   no   \n",
              "8   37  technician   married  secondary      no        1     yes   no   \n",
              "9   28    services    single  secondary      no     5090     yes   no   \n",
              "\n",
              "   contact  day month  duration  campaign  pdays  previous poutcome deposit  \n",
              "0  unknown    5   may      1042         1     -1         0  unknown     yes  \n",
              "1  unknown    5   may      1467         1     -1         0  unknown     yes  \n",
              "2  unknown    5   may      1389         1     -1         0  unknown     yes  \n",
              "3  unknown    5   may       579         1     -1         0  unknown     yes  \n",
              "4  unknown    5   may       673         2     -1         0  unknown     yes  \n",
              "5  unknown    5   may       562         2     -1         0  unknown     yes  \n",
              "6  unknown    6   may      1201         1     -1         0  unknown     yes  \n",
              "7  unknown    6   may      1030         1     -1         0  unknown     yes  \n",
              "8  unknown    6   may       608         1     -1         0  unknown     yes  \n",
              "9  unknown    6   may      1297         3     -1         0  unknown     yes  "
            ],
            "text/html": [
              "\n",
              "  <div id=\"df-88b99529-8412-4be7-8627-9f4cc4390105\" class=\"colab-df-container\">\n",
              "    <div>\n",
              "<style scoped>\n",
              "    .dataframe tbody tr th:only-of-type {\n",
              "        vertical-align: middle;\n",
              "    }\n",
              "\n",
              "    .dataframe tbody tr th {\n",
              "        vertical-align: top;\n",
              "    }\n",
              "\n",
              "    .dataframe thead th {\n",
              "        text-align: right;\n",
              "    }\n",
              "</style>\n",
              "<table border=\"1\" class=\"dataframe\">\n",
              "  <thead>\n",
              "    <tr style=\"text-align: right;\">\n",
              "      <th></th>\n",
              "      <th>age</th>\n",
              "      <th>job</th>\n",
              "      <th>marital</th>\n",
              "      <th>education</th>\n",
              "      <th>default</th>\n",
              "      <th>balance</th>\n",
              "      <th>housing</th>\n",
              "      <th>loan</th>\n",
              "      <th>contact</th>\n",
              "      <th>day</th>\n",
              "      <th>month</th>\n",
              "      <th>duration</th>\n",
              "      <th>campaign</th>\n",
              "      <th>pdays</th>\n",
              "      <th>previous</th>\n",
              "      <th>poutcome</th>\n",
              "      <th>deposit</th>\n",
              "    </tr>\n",
              "  </thead>\n",
              "  <tbody>\n",
              "    <tr>\n",
              "      <th>0</th>\n",
              "      <td>59</td>\n",
              "      <td>admin.</td>\n",
              "      <td>married</td>\n",
              "      <td>secondary</td>\n",
              "      <td>no</td>\n",
              "      <td>2343</td>\n",
              "      <td>yes</td>\n",
              "      <td>no</td>\n",
              "      <td>unknown</td>\n",
              "      <td>5</td>\n",
              "      <td>may</td>\n",
              "      <td>1042</td>\n",
              "      <td>1</td>\n",
              "      <td>-1</td>\n",
              "      <td>0</td>\n",
              "      <td>unknown</td>\n",
              "      <td>yes</td>\n",
              "    </tr>\n",
              "    <tr>\n",
              "      <th>1</th>\n",
              "      <td>56</td>\n",
              "      <td>admin.</td>\n",
              "      <td>married</td>\n",
              "      <td>secondary</td>\n",
              "      <td>no</td>\n",
              "      <td>45</td>\n",
              "      <td>no</td>\n",
              "      <td>no</td>\n",
              "      <td>unknown</td>\n",
              "      <td>5</td>\n",
              "      <td>may</td>\n",
              "      <td>1467</td>\n",
              "      <td>1</td>\n",
              "      <td>-1</td>\n",
              "      <td>0</td>\n",
              "      <td>unknown</td>\n",
              "      <td>yes</td>\n",
              "    </tr>\n",
              "    <tr>\n",
              "      <th>2</th>\n",
              "      <td>41</td>\n",
              "      <td>technician</td>\n",
              "      <td>married</td>\n",
              "      <td>secondary</td>\n",
              "      <td>no</td>\n",
              "      <td>1270</td>\n",
              "      <td>yes</td>\n",
              "      <td>no</td>\n",
              "      <td>unknown</td>\n",
              "      <td>5</td>\n",
              "      <td>may</td>\n",
              "      <td>1389</td>\n",
              "      <td>1</td>\n",
              "      <td>-1</td>\n",
              "      <td>0</td>\n",
              "      <td>unknown</td>\n",
              "      <td>yes</td>\n",
              "    </tr>\n",
              "    <tr>\n",
              "      <th>3</th>\n",
              "      <td>55</td>\n",
              "      <td>services</td>\n",
              "      <td>married</td>\n",
              "      <td>secondary</td>\n",
              "      <td>no</td>\n",
              "      <td>2476</td>\n",
              "      <td>yes</td>\n",
              "      <td>no</td>\n",
              "      <td>unknown</td>\n",
              "      <td>5</td>\n",
              "      <td>may</td>\n",
              "      <td>579</td>\n",
              "      <td>1</td>\n",
              "      <td>-1</td>\n",
              "      <td>0</td>\n",
              "      <td>unknown</td>\n",
              "      <td>yes</td>\n",
              "    </tr>\n",
              "    <tr>\n",
              "      <th>4</th>\n",
              "      <td>54</td>\n",
              "      <td>admin.</td>\n",
              "      <td>married</td>\n",
              "      <td>tertiary</td>\n",
              "      <td>no</td>\n",
              "      <td>184</td>\n",
              "      <td>no</td>\n",
              "      <td>no</td>\n",
              "      <td>unknown</td>\n",
              "      <td>5</td>\n",
              "      <td>may</td>\n",
              "      <td>673</td>\n",
              "      <td>2</td>\n",
              "      <td>-1</td>\n",
              "      <td>0</td>\n",
              "      <td>unknown</td>\n",
              "      <td>yes</td>\n",
              "    </tr>\n",
              "    <tr>\n",
              "      <th>5</th>\n",
              "      <td>42</td>\n",
              "      <td>management</td>\n",
              "      <td>single</td>\n",
              "      <td>tertiary</td>\n",
              "      <td>no</td>\n",
              "      <td>0</td>\n",
              "      <td>yes</td>\n",
              "      <td>yes</td>\n",
              "      <td>unknown</td>\n",
              "      <td>5</td>\n",
              "      <td>may</td>\n",
              "      <td>562</td>\n",
              "      <td>2</td>\n",
              "      <td>-1</td>\n",
              "      <td>0</td>\n",
              "      <td>unknown</td>\n",
              "      <td>yes</td>\n",
              "    </tr>\n",
              "    <tr>\n",
              "      <th>6</th>\n",
              "      <td>56</td>\n",
              "      <td>management</td>\n",
              "      <td>married</td>\n",
              "      <td>tertiary</td>\n",
              "      <td>no</td>\n",
              "      <td>830</td>\n",
              "      <td>yes</td>\n",
              "      <td>yes</td>\n",
              "      <td>unknown</td>\n",
              "      <td>6</td>\n",
              "      <td>may</td>\n",
              "      <td>1201</td>\n",
              "      <td>1</td>\n",
              "      <td>-1</td>\n",
              "      <td>0</td>\n",
              "      <td>unknown</td>\n",
              "      <td>yes</td>\n",
              "    </tr>\n",
              "    <tr>\n",
              "      <th>7</th>\n",
              "      <td>60</td>\n",
              "      <td>retired</td>\n",
              "      <td>divorced</td>\n",
              "      <td>secondary</td>\n",
              "      <td>no</td>\n",
              "      <td>545</td>\n",
              "      <td>yes</td>\n",
              "      <td>no</td>\n",
              "      <td>unknown</td>\n",
              "      <td>6</td>\n",
              "      <td>may</td>\n",
              "      <td>1030</td>\n",
              "      <td>1</td>\n",
              "      <td>-1</td>\n",
              "      <td>0</td>\n",
              "      <td>unknown</td>\n",
              "      <td>yes</td>\n",
              "    </tr>\n",
              "    <tr>\n",
              "      <th>8</th>\n",
              "      <td>37</td>\n",
              "      <td>technician</td>\n",
              "      <td>married</td>\n",
              "      <td>secondary</td>\n",
              "      <td>no</td>\n",
              "      <td>1</td>\n",
              "      <td>yes</td>\n",
              "      <td>no</td>\n",
              "      <td>unknown</td>\n",
              "      <td>6</td>\n",
              "      <td>may</td>\n",
              "      <td>608</td>\n",
              "      <td>1</td>\n",
              "      <td>-1</td>\n",
              "      <td>0</td>\n",
              "      <td>unknown</td>\n",
              "      <td>yes</td>\n",
              "    </tr>\n",
              "    <tr>\n",
              "      <th>9</th>\n",
              "      <td>28</td>\n",
              "      <td>services</td>\n",
              "      <td>single</td>\n",
              "      <td>secondary</td>\n",
              "      <td>no</td>\n",
              "      <td>5090</td>\n",
              "      <td>yes</td>\n",
              "      <td>no</td>\n",
              "      <td>unknown</td>\n",
              "      <td>6</td>\n",
              "      <td>may</td>\n",
              "      <td>1297</td>\n",
              "      <td>3</td>\n",
              "      <td>-1</td>\n",
              "      <td>0</td>\n",
              "      <td>unknown</td>\n",
              "      <td>yes</td>\n",
              "    </tr>\n",
              "  </tbody>\n",
              "</table>\n",
              "</div>\n",
              "    <div class=\"colab-df-buttons\">\n",
              "\n",
              "  <div class=\"colab-df-container\">\n",
              "    <button class=\"colab-df-convert\" onclick=\"convertToInteractive('df-88b99529-8412-4be7-8627-9f4cc4390105')\"\n",
              "            title=\"Convert this dataframe to an interactive table.\"\n",
              "            style=\"display:none;\">\n",
              "\n",
              "  <svg xmlns=\"http://www.w3.org/2000/svg\" height=\"24px\" viewBox=\"0 -960 960 960\">\n",
              "    <path d=\"M120-120v-720h720v720H120Zm60-500h600v-160H180v160Zm220 220h160v-160H400v160Zm0 220h160v-160H400v160ZM180-400h160v-160H180v160Zm440 0h160v-160H620v160ZM180-180h160v-160H180v160Zm440 0h160v-160H620v160Z\"/>\n",
              "  </svg>\n",
              "    </button>\n",
              "\n",
              "  <style>\n",
              "    .colab-df-container {\n",
              "      display:flex;\n",
              "      gap: 12px;\n",
              "    }\n",
              "\n",
              "    .colab-df-convert {\n",
              "      background-color: #E8F0FE;\n",
              "      border: none;\n",
              "      border-radius: 50%;\n",
              "      cursor: pointer;\n",
              "      display: none;\n",
              "      fill: #1967D2;\n",
              "      height: 32px;\n",
              "      padding: 0 0 0 0;\n",
              "      width: 32px;\n",
              "    }\n",
              "\n",
              "    .colab-df-convert:hover {\n",
              "      background-color: #E2EBFA;\n",
              "      box-shadow: 0px 1px 2px rgba(60, 64, 67, 0.3), 0px 1px 3px 1px rgba(60, 64, 67, 0.15);\n",
              "      fill: #174EA6;\n",
              "    }\n",
              "\n",
              "    .colab-df-buttons div {\n",
              "      margin-bottom: 4px;\n",
              "    }\n",
              "\n",
              "    [theme=dark] .colab-df-convert {\n",
              "      background-color: #3B4455;\n",
              "      fill: #D2E3FC;\n",
              "    }\n",
              "\n",
              "    [theme=dark] .colab-df-convert:hover {\n",
              "      background-color: #434B5C;\n",
              "      box-shadow: 0px 1px 3px 1px rgba(0, 0, 0, 0.15);\n",
              "      filter: drop-shadow(0px 1px 2px rgba(0, 0, 0, 0.3));\n",
              "      fill: #FFFFFF;\n",
              "    }\n",
              "  </style>\n",
              "\n",
              "    <script>\n",
              "      const buttonEl =\n",
              "        document.querySelector('#df-88b99529-8412-4be7-8627-9f4cc4390105 button.colab-df-convert');\n",
              "      buttonEl.style.display =\n",
              "        google.colab.kernel.accessAllowed ? 'block' : 'none';\n",
              "\n",
              "      async function convertToInteractive(key) {\n",
              "        const element = document.querySelector('#df-88b99529-8412-4be7-8627-9f4cc4390105');\n",
              "        const dataTable =\n",
              "          await google.colab.kernel.invokeFunction('convertToInteractive',\n",
              "                                                    [key], {});\n",
              "        if (!dataTable) return;\n",
              "\n",
              "        const docLinkHtml = 'Like what you see? Visit the ' +\n",
              "          '<a target=\"_blank\" href=https://colab.research.google.com/notebooks/data_table.ipynb>data table notebook</a>'\n",
              "          + ' to learn more about interactive tables.';\n",
              "        element.innerHTML = '';\n",
              "        dataTable['output_type'] = 'display_data';\n",
              "        await google.colab.output.renderOutput(dataTable, element);\n",
              "        const docLink = document.createElement('div');\n",
              "        docLink.innerHTML = docLinkHtml;\n",
              "        element.appendChild(docLink);\n",
              "      }\n",
              "    </script>\n",
              "  </div>\n",
              "\n",
              "\n",
              "<div id=\"df-1fb79b99-34f7-4fc9-9750-704d9843646d\">\n",
              "  <button class=\"colab-df-quickchart\" onclick=\"quickchart('df-1fb79b99-34f7-4fc9-9750-704d9843646d')\"\n",
              "            title=\"Suggest charts\"\n",
              "            style=\"display:none;\">\n",
              "\n",
              "<svg xmlns=\"http://www.w3.org/2000/svg\" height=\"24px\"viewBox=\"0 0 24 24\"\n",
              "     width=\"24px\">\n",
              "    <g>\n",
              "        <path d=\"M19 3H5c-1.1 0-2 .9-2 2v14c0 1.1.9 2 2 2h14c1.1 0 2-.9 2-2V5c0-1.1-.9-2-2-2zM9 17H7v-7h2v7zm4 0h-2V7h2v10zm4 0h-2v-4h2v4z\"/>\n",
              "    </g>\n",
              "</svg>\n",
              "  </button>\n",
              "\n",
              "<style>\n",
              "  .colab-df-quickchart {\n",
              "      --bg-color: #E8F0FE;\n",
              "      --fill-color: #1967D2;\n",
              "      --hover-bg-color: #E2EBFA;\n",
              "      --hover-fill-color: #174EA6;\n",
              "      --disabled-fill-color: #AAA;\n",
              "      --disabled-bg-color: #DDD;\n",
              "  }\n",
              "\n",
              "  [theme=dark] .colab-df-quickchart {\n",
              "      --bg-color: #3B4455;\n",
              "      --fill-color: #D2E3FC;\n",
              "      --hover-bg-color: #434B5C;\n",
              "      --hover-fill-color: #FFFFFF;\n",
              "      --disabled-bg-color: #3B4455;\n",
              "      --disabled-fill-color: #666;\n",
              "  }\n",
              "\n",
              "  .colab-df-quickchart {\n",
              "    background-color: var(--bg-color);\n",
              "    border: none;\n",
              "    border-radius: 50%;\n",
              "    cursor: pointer;\n",
              "    display: none;\n",
              "    fill: var(--fill-color);\n",
              "    height: 32px;\n",
              "    padding: 0;\n",
              "    width: 32px;\n",
              "  }\n",
              "\n",
              "  .colab-df-quickchart:hover {\n",
              "    background-color: var(--hover-bg-color);\n",
              "    box-shadow: 0 1px 2px rgba(60, 64, 67, 0.3), 0 1px 3px 1px rgba(60, 64, 67, 0.15);\n",
              "    fill: var(--button-hover-fill-color);\n",
              "  }\n",
              "\n",
              "  .colab-df-quickchart-complete:disabled,\n",
              "  .colab-df-quickchart-complete:disabled:hover {\n",
              "    background-color: var(--disabled-bg-color);\n",
              "    fill: var(--disabled-fill-color);\n",
              "    box-shadow: none;\n",
              "  }\n",
              "\n",
              "  .colab-df-spinner {\n",
              "    border: 2px solid var(--fill-color);\n",
              "    border-color: transparent;\n",
              "    border-bottom-color: var(--fill-color);\n",
              "    animation:\n",
              "      spin 1s steps(1) infinite;\n",
              "  }\n",
              "\n",
              "  @keyframes spin {\n",
              "    0% {\n",
              "      border-color: transparent;\n",
              "      border-bottom-color: var(--fill-color);\n",
              "      border-left-color: var(--fill-color);\n",
              "    }\n",
              "    20% {\n",
              "      border-color: transparent;\n",
              "      border-left-color: var(--fill-color);\n",
              "      border-top-color: var(--fill-color);\n",
              "    }\n",
              "    30% {\n",
              "      border-color: transparent;\n",
              "      border-left-color: var(--fill-color);\n",
              "      border-top-color: var(--fill-color);\n",
              "      border-right-color: var(--fill-color);\n",
              "    }\n",
              "    40% {\n",
              "      border-color: transparent;\n",
              "      border-right-color: var(--fill-color);\n",
              "      border-top-color: var(--fill-color);\n",
              "    }\n",
              "    60% {\n",
              "      border-color: transparent;\n",
              "      border-right-color: var(--fill-color);\n",
              "    }\n",
              "    80% {\n",
              "      border-color: transparent;\n",
              "      border-right-color: var(--fill-color);\n",
              "      border-bottom-color: var(--fill-color);\n",
              "    }\n",
              "    90% {\n",
              "      border-color: transparent;\n",
              "      border-bottom-color: var(--fill-color);\n",
              "    }\n",
              "  }\n",
              "</style>\n",
              "\n",
              "  <script>\n",
              "    async function quickchart(key) {\n",
              "      const quickchartButtonEl =\n",
              "        document.querySelector('#' + key + ' button');\n",
              "      quickchartButtonEl.disabled = true;  // To prevent multiple clicks.\n",
              "      quickchartButtonEl.classList.add('colab-df-spinner');\n",
              "      try {\n",
              "        const charts = await google.colab.kernel.invokeFunction(\n",
              "            'suggestCharts', [key], {});\n",
              "      } catch (error) {\n",
              "        console.error('Error during call to suggestCharts:', error);\n",
              "      }\n",
              "      quickchartButtonEl.classList.remove('colab-df-spinner');\n",
              "      quickchartButtonEl.classList.add('colab-df-quickchart-complete');\n",
              "    }\n",
              "    (() => {\n",
              "      let quickchartButtonEl =\n",
              "        document.querySelector('#df-1fb79b99-34f7-4fc9-9750-704d9843646d button');\n",
              "      quickchartButtonEl.style.display =\n",
              "        google.colab.kernel.accessAllowed ? 'block' : 'none';\n",
              "    })();\n",
              "  </script>\n",
              "</div>\n",
              "\n",
              "    </div>\n",
              "  </div>\n"
            ]
          },
          "metadata": {},
          "execution_count": 3
        }
      ]
    },
    {
      "cell_type": "markdown",
      "source": [
        "# Description of Dataset\n",
        "\n",
        "1. age: Represents the age of the individual.\n",
        "\n",
        "2. job: Describes the occupation or job of the person.\n",
        "\n",
        "3. marital: Indicates the marital status of the person (e.g., married, single, divorced).\n",
        "\n",
        "4. education: Represents the educational level of the person (e.g., primary, secondary, tertiary).\n",
        "\n",
        "5. default: Indicates whether the person has credit in default ('yes', 'no', or 'unknown').\n",
        "\n",
        "6. housing: Shows whether the person has a housing loan ('yes', 'no', or 'unknown').\n",
        "\n",
        "7. loan: Indicates whether the person has a personal loan ('yes', 'no', or 'unknown').\n",
        "\n",
        "8. contact: Describes the method of communication used to contact the person (e.g., 'cellular', 'telephone').\n",
        "\n",
        "9. day: Indicates the day of the week of the last contact.\n",
        "\n",
        "10. month: Represents the month of the last contact.\n",
        "\n",
        "11. Duration: Represents the duration of the last contact in seconds.\n",
        "\n",
        "12. campaign: Indicates the number of contacts made during this campaign.\n",
        "\n",
        "13. pdays: Describes the number of days since the person was last contacted or -1 if they were not previously contacted.\n",
        "\n",
        "14. previous: Represents the number of contacts made before this campaign.\n",
        "\n",
        "15. poutcome: Indicates the outcome of the previous marketing campaign.\n",
        "\n",
        "16. deposit: The target variable, indicating whether the person subscribed to a term deposit ('yes' or 'no')gn."
      ],
      "metadata": {
        "id": "z79YDmsz7rAV"
      }
    },
    {
      "cell_type": "code",
      "source": [
        "df.info()"
      ],
      "metadata": {
        "colab": {
          "base_uri": "https://localhost:8080/"
        },
        "id": "a1LN-wo8M9I8",
        "outputId": "cf7a675a-8032-4d63-dddb-da2fd242885b"
      },
      "execution_count": 4,
      "outputs": [
        {
          "output_type": "stream",
          "name": "stdout",
          "text": [
            "<class 'pandas.core.frame.DataFrame'>\n",
            "RangeIndex: 11162 entries, 0 to 11161\n",
            "Data columns (total 17 columns):\n",
            " #   Column     Non-Null Count  Dtype \n",
            "---  ------     --------------  ----- \n",
            " 0   age        11162 non-null  int64 \n",
            " 1   job        11162 non-null  object\n",
            " 2   marital    11162 non-null  object\n",
            " 3   education  11162 non-null  object\n",
            " 4   default    11162 non-null  object\n",
            " 5   balance    11162 non-null  int64 \n",
            " 6   housing    11162 non-null  object\n",
            " 7   loan       11162 non-null  object\n",
            " 8   contact    11162 non-null  object\n",
            " 9   day        11162 non-null  int64 \n",
            " 10  month      11162 non-null  object\n",
            " 11  duration   11162 non-null  int64 \n",
            " 12  campaign   11162 non-null  int64 \n",
            " 13  pdays      11162 non-null  int64 \n",
            " 14  previous   11162 non-null  int64 \n",
            " 15  poutcome   11162 non-null  object\n",
            " 16  deposit    11162 non-null  object\n",
            "dtypes: int64(7), object(10)\n",
            "memory usage: 1.4+ MB\n",
            "<class 'pandas.core.frame.DataFrame'>\n",
            "RangeIndex: 11162 entries, 0 to 11161\n",
            "Data columns (total 17 columns):\n",
            " #   Column     Non-Null Count  Dtype \n",
            "---  ------     --------------  ----- \n",
            " 0   age        11162 non-null  int64 \n",
            " 1   job        11162 non-null  object\n",
            " 2   marital    11162 non-null  object\n",
            " 3   education  11162 non-null  object\n",
            " 4   default    11162 non-null  object\n",
            " 5   balance    11162 non-null  int64 \n",
            " 6   housing    11162 non-null  object\n",
            " 7   loan       11162 non-null  object\n",
            " 8   contact    11162 non-null  object\n",
            " 9   day        11162 non-null  int64 \n",
            " 10  month      11162 non-null  object\n",
            " 11  duration   11162 non-null  int64 \n",
            " 12  campaign   11162 non-null  int64 \n",
            " 13  pdays      11162 non-null  int64 \n",
            " 14  previous   11162 non-null  int64 \n",
            " 15  poutcome   11162 non-null  object\n",
            " 16  deposit    11162 non-null  object\n",
            "dtypes: int64(7), object(10)\n",
            "memory usage: 1.4+ MB\n"
          ]
        }
      ]
    },
    {
      "cell_type": "code",
      "source": [
        "df.describe()"
      ],
      "metadata": {
        "colab": {
          "base_uri": "https://localhost:8080/",
          "height": 300
        },
        "id": "lz-gOLkP8hdt",
        "outputId": "bc91d594-aed0-49b7-a257-c042798a4e31"
      },
      "execution_count": 10,
      "outputs": [
        {
          "output_type": "execute_result",
          "data": {
            "text/plain": [
              "                age       balance           day      duration      campaign  \\\n",
              "count  11162.000000  11162.000000  11162.000000  11162.000000  11162.000000   \n",
              "mean      41.231948   1528.538524     15.658036    371.993818      2.508421   \n",
              "std       11.913369   3225.413326      8.420740    347.128386      2.722077   \n",
              "min       18.000000  -6847.000000      1.000000      2.000000      1.000000   \n",
              "25%       32.000000    122.000000      8.000000    138.000000      1.000000   \n",
              "50%       39.000000    550.000000     15.000000    255.000000      2.000000   \n",
              "75%       49.000000   1708.000000     22.000000    496.000000      3.000000   \n",
              "max       95.000000  81204.000000     31.000000   3881.000000     63.000000   \n",
              "\n",
              "              pdays      previous  \n",
              "count  11162.000000  11162.000000  \n",
              "mean      51.330407      0.832557  \n",
              "std      108.758282      2.292007  \n",
              "min       -1.000000      0.000000  \n",
              "25%       -1.000000      0.000000  \n",
              "50%       -1.000000      0.000000  \n",
              "75%       20.750000      1.000000  \n",
              "max      854.000000     58.000000  "
            ],
            "text/html": [
              "\n",
              "  <div id=\"df-8c8c2af8-90e9-44fd-9638-245401a1770c\" class=\"colab-df-container\">\n",
              "    <div>\n",
              "<style scoped>\n",
              "    .dataframe tbody tr th:only-of-type {\n",
              "        vertical-align: middle;\n",
              "    }\n",
              "\n",
              "    .dataframe tbody tr th {\n",
              "        vertical-align: top;\n",
              "    }\n",
              "\n",
              "    .dataframe thead th {\n",
              "        text-align: right;\n",
              "    }\n",
              "</style>\n",
              "<table border=\"1\" class=\"dataframe\">\n",
              "  <thead>\n",
              "    <tr style=\"text-align: right;\">\n",
              "      <th></th>\n",
              "      <th>age</th>\n",
              "      <th>balance</th>\n",
              "      <th>day</th>\n",
              "      <th>duration</th>\n",
              "      <th>campaign</th>\n",
              "      <th>pdays</th>\n",
              "      <th>previous</th>\n",
              "    </tr>\n",
              "  </thead>\n",
              "  <tbody>\n",
              "    <tr>\n",
              "      <th>count</th>\n",
              "      <td>11162.000000</td>\n",
              "      <td>11162.000000</td>\n",
              "      <td>11162.000000</td>\n",
              "      <td>11162.000000</td>\n",
              "      <td>11162.000000</td>\n",
              "      <td>11162.000000</td>\n",
              "      <td>11162.000000</td>\n",
              "    </tr>\n",
              "    <tr>\n",
              "      <th>mean</th>\n",
              "      <td>41.231948</td>\n",
              "      <td>1528.538524</td>\n",
              "      <td>15.658036</td>\n",
              "      <td>371.993818</td>\n",
              "      <td>2.508421</td>\n",
              "      <td>51.330407</td>\n",
              "      <td>0.832557</td>\n",
              "    </tr>\n",
              "    <tr>\n",
              "      <th>std</th>\n",
              "      <td>11.913369</td>\n",
              "      <td>3225.413326</td>\n",
              "      <td>8.420740</td>\n",
              "      <td>347.128386</td>\n",
              "      <td>2.722077</td>\n",
              "      <td>108.758282</td>\n",
              "      <td>2.292007</td>\n",
              "    </tr>\n",
              "    <tr>\n",
              "      <th>min</th>\n",
              "      <td>18.000000</td>\n",
              "      <td>-6847.000000</td>\n",
              "      <td>1.000000</td>\n",
              "      <td>2.000000</td>\n",
              "      <td>1.000000</td>\n",
              "      <td>-1.000000</td>\n",
              "      <td>0.000000</td>\n",
              "    </tr>\n",
              "    <tr>\n",
              "      <th>25%</th>\n",
              "      <td>32.000000</td>\n",
              "      <td>122.000000</td>\n",
              "      <td>8.000000</td>\n",
              "      <td>138.000000</td>\n",
              "      <td>1.000000</td>\n",
              "      <td>-1.000000</td>\n",
              "      <td>0.000000</td>\n",
              "    </tr>\n",
              "    <tr>\n",
              "      <th>50%</th>\n",
              "      <td>39.000000</td>\n",
              "      <td>550.000000</td>\n",
              "      <td>15.000000</td>\n",
              "      <td>255.000000</td>\n",
              "      <td>2.000000</td>\n",
              "      <td>-1.000000</td>\n",
              "      <td>0.000000</td>\n",
              "    </tr>\n",
              "    <tr>\n",
              "      <th>75%</th>\n",
              "      <td>49.000000</td>\n",
              "      <td>1708.000000</td>\n",
              "      <td>22.000000</td>\n",
              "      <td>496.000000</td>\n",
              "      <td>3.000000</td>\n",
              "      <td>20.750000</td>\n",
              "      <td>1.000000</td>\n",
              "    </tr>\n",
              "    <tr>\n",
              "      <th>max</th>\n",
              "      <td>95.000000</td>\n",
              "      <td>81204.000000</td>\n",
              "      <td>31.000000</td>\n",
              "      <td>3881.000000</td>\n",
              "      <td>63.000000</td>\n",
              "      <td>854.000000</td>\n",
              "      <td>58.000000</td>\n",
              "    </tr>\n",
              "  </tbody>\n",
              "</table>\n",
              "</div>\n",
              "    <div class=\"colab-df-buttons\">\n",
              "\n",
              "  <div class=\"colab-df-container\">\n",
              "    <button class=\"colab-df-convert\" onclick=\"convertToInteractive('df-8c8c2af8-90e9-44fd-9638-245401a1770c')\"\n",
              "            title=\"Convert this dataframe to an interactive table.\"\n",
              "            style=\"display:none;\">\n",
              "\n",
              "  <svg xmlns=\"http://www.w3.org/2000/svg\" height=\"24px\" viewBox=\"0 -960 960 960\">\n",
              "    <path d=\"M120-120v-720h720v720H120Zm60-500h600v-160H180v160Zm220 220h160v-160H400v160Zm0 220h160v-160H400v160ZM180-400h160v-160H180v160Zm440 0h160v-160H620v160ZM180-180h160v-160H180v160Zm440 0h160v-160H620v160Z\"/>\n",
              "  </svg>\n",
              "    </button>\n",
              "\n",
              "  <style>\n",
              "    .colab-df-container {\n",
              "      display:flex;\n",
              "      gap: 12px;\n",
              "    }\n",
              "\n",
              "    .colab-df-convert {\n",
              "      background-color: #E8F0FE;\n",
              "      border: none;\n",
              "      border-radius: 50%;\n",
              "      cursor: pointer;\n",
              "      display: none;\n",
              "      fill: #1967D2;\n",
              "      height: 32px;\n",
              "      padding: 0 0 0 0;\n",
              "      width: 32px;\n",
              "    }\n",
              "\n",
              "    .colab-df-convert:hover {\n",
              "      background-color: #E2EBFA;\n",
              "      box-shadow: 0px 1px 2px rgba(60, 64, 67, 0.3), 0px 1px 3px 1px rgba(60, 64, 67, 0.15);\n",
              "      fill: #174EA6;\n",
              "    }\n",
              "\n",
              "    .colab-df-buttons div {\n",
              "      margin-bottom: 4px;\n",
              "    }\n",
              "\n",
              "    [theme=dark] .colab-df-convert {\n",
              "      background-color: #3B4455;\n",
              "      fill: #D2E3FC;\n",
              "    }\n",
              "\n",
              "    [theme=dark] .colab-df-convert:hover {\n",
              "      background-color: #434B5C;\n",
              "      box-shadow: 0px 1px 3px 1px rgba(0, 0, 0, 0.15);\n",
              "      filter: drop-shadow(0px 1px 2px rgba(0, 0, 0, 0.3));\n",
              "      fill: #FFFFFF;\n",
              "    }\n",
              "  </style>\n",
              "\n",
              "    <script>\n",
              "      const buttonEl =\n",
              "        document.querySelector('#df-8c8c2af8-90e9-44fd-9638-245401a1770c button.colab-df-convert');\n",
              "      buttonEl.style.display =\n",
              "        google.colab.kernel.accessAllowed ? 'block' : 'none';\n",
              "\n",
              "      async function convertToInteractive(key) {\n",
              "        const element = document.querySelector('#df-8c8c2af8-90e9-44fd-9638-245401a1770c');\n",
              "        const dataTable =\n",
              "          await google.colab.kernel.invokeFunction('convertToInteractive',\n",
              "                                                    [key], {});\n",
              "        if (!dataTable) return;\n",
              "\n",
              "        const docLinkHtml = 'Like what you see? Visit the ' +\n",
              "          '<a target=\"_blank\" href=https://colab.research.google.com/notebooks/data_table.ipynb>data table notebook</a>'\n",
              "          + ' to learn more about interactive tables.';\n",
              "        element.innerHTML = '';\n",
              "        dataTable['output_type'] = 'display_data';\n",
              "        await google.colab.output.renderOutput(dataTable, element);\n",
              "        const docLink = document.createElement('div');\n",
              "        docLink.innerHTML = docLinkHtml;\n",
              "        element.appendChild(docLink);\n",
              "      }\n",
              "    </script>\n",
              "  </div>\n",
              "\n",
              "\n",
              "<div id=\"df-da8b0e32-d7dc-4356-a1a5-af8014b51648\">\n",
              "  <button class=\"colab-df-quickchart\" onclick=\"quickchart('df-da8b0e32-d7dc-4356-a1a5-af8014b51648')\"\n",
              "            title=\"Suggest charts\"\n",
              "            style=\"display:none;\">\n",
              "\n",
              "<svg xmlns=\"http://www.w3.org/2000/svg\" height=\"24px\"viewBox=\"0 0 24 24\"\n",
              "     width=\"24px\">\n",
              "    <g>\n",
              "        <path d=\"M19 3H5c-1.1 0-2 .9-2 2v14c0 1.1.9 2 2 2h14c1.1 0 2-.9 2-2V5c0-1.1-.9-2-2-2zM9 17H7v-7h2v7zm4 0h-2V7h2v10zm4 0h-2v-4h2v4z\"/>\n",
              "    </g>\n",
              "</svg>\n",
              "  </button>\n",
              "\n",
              "<style>\n",
              "  .colab-df-quickchart {\n",
              "      --bg-color: #E8F0FE;\n",
              "      --fill-color: #1967D2;\n",
              "      --hover-bg-color: #E2EBFA;\n",
              "      --hover-fill-color: #174EA6;\n",
              "      --disabled-fill-color: #AAA;\n",
              "      --disabled-bg-color: #DDD;\n",
              "  }\n",
              "\n",
              "  [theme=dark] .colab-df-quickchart {\n",
              "      --bg-color: #3B4455;\n",
              "      --fill-color: #D2E3FC;\n",
              "      --hover-bg-color: #434B5C;\n",
              "      --hover-fill-color: #FFFFFF;\n",
              "      --disabled-bg-color: #3B4455;\n",
              "      --disabled-fill-color: #666;\n",
              "  }\n",
              "\n",
              "  .colab-df-quickchart {\n",
              "    background-color: var(--bg-color);\n",
              "    border: none;\n",
              "    border-radius: 50%;\n",
              "    cursor: pointer;\n",
              "    display: none;\n",
              "    fill: var(--fill-color);\n",
              "    height: 32px;\n",
              "    padding: 0;\n",
              "    width: 32px;\n",
              "  }\n",
              "\n",
              "  .colab-df-quickchart:hover {\n",
              "    background-color: var(--hover-bg-color);\n",
              "    box-shadow: 0 1px 2px rgba(60, 64, 67, 0.3), 0 1px 3px 1px rgba(60, 64, 67, 0.15);\n",
              "    fill: var(--button-hover-fill-color);\n",
              "  }\n",
              "\n",
              "  .colab-df-quickchart-complete:disabled,\n",
              "  .colab-df-quickchart-complete:disabled:hover {\n",
              "    background-color: var(--disabled-bg-color);\n",
              "    fill: var(--disabled-fill-color);\n",
              "    box-shadow: none;\n",
              "  }\n",
              "\n",
              "  .colab-df-spinner {\n",
              "    border: 2px solid var(--fill-color);\n",
              "    border-color: transparent;\n",
              "    border-bottom-color: var(--fill-color);\n",
              "    animation:\n",
              "      spin 1s steps(1) infinite;\n",
              "  }\n",
              "\n",
              "  @keyframes spin {\n",
              "    0% {\n",
              "      border-color: transparent;\n",
              "      border-bottom-color: var(--fill-color);\n",
              "      border-left-color: var(--fill-color);\n",
              "    }\n",
              "    20% {\n",
              "      border-color: transparent;\n",
              "      border-left-color: var(--fill-color);\n",
              "      border-top-color: var(--fill-color);\n",
              "    }\n",
              "    30% {\n",
              "      border-color: transparent;\n",
              "      border-left-color: var(--fill-color);\n",
              "      border-top-color: var(--fill-color);\n",
              "      border-right-color: var(--fill-color);\n",
              "    }\n",
              "    40% {\n",
              "      border-color: transparent;\n",
              "      border-right-color: var(--fill-color);\n",
              "      border-top-color: var(--fill-color);\n",
              "    }\n",
              "    60% {\n",
              "      border-color: transparent;\n",
              "      border-right-color: var(--fill-color);\n",
              "    }\n",
              "    80% {\n",
              "      border-color: transparent;\n",
              "      border-right-color: var(--fill-color);\n",
              "      border-bottom-color: var(--fill-color);\n",
              "    }\n",
              "    90% {\n",
              "      border-color: transparent;\n",
              "      border-bottom-color: var(--fill-color);\n",
              "    }\n",
              "  }\n",
              "</style>\n",
              "\n",
              "  <script>\n",
              "    async function quickchart(key) {\n",
              "      const quickchartButtonEl =\n",
              "        document.querySelector('#' + key + ' button');\n",
              "      quickchartButtonEl.disabled = true;  // To prevent multiple clicks.\n",
              "      quickchartButtonEl.classList.add('colab-df-spinner');\n",
              "      try {\n",
              "        const charts = await google.colab.kernel.invokeFunction(\n",
              "            'suggestCharts', [key], {});\n",
              "      } catch (error) {\n",
              "        console.error('Error during call to suggestCharts:', error);\n",
              "      }\n",
              "      quickchartButtonEl.classList.remove('colab-df-spinner');\n",
              "      quickchartButtonEl.classList.add('colab-df-quickchart-complete');\n",
              "    }\n",
              "    (() => {\n",
              "      let quickchartButtonEl =\n",
              "        document.querySelector('#df-da8b0e32-d7dc-4356-a1a5-af8014b51648 button');\n",
              "      quickchartButtonEl.style.display =\n",
              "        google.colab.kernel.accessAllowed ? 'block' : 'none';\n",
              "    })();\n",
              "  </script>\n",
              "</div>\n",
              "\n",
              "    </div>\n",
              "  </div>\n"
            ]
          },
          "metadata": {},
          "execution_count": 10
        }
      ]
    },
    {
      "cell_type": "markdown",
      "source": [
        "# Data Cleaning"
      ],
      "metadata": {
        "id": "s2s0JjK9LFHT"
      }
    },
    {
      "cell_type": "code",
      "source": [
        "#checking for null values\n",
        "df.isna().sum()"
      ],
      "metadata": {
        "colab": {
          "base_uri": "https://localhost:8080/"
        },
        "id": "wVgZs-ve-L-a",
        "outputId": "d2118eb4-12fd-490b-a580-0ae3aacc41f8"
      },
      "execution_count": 6,
      "outputs": [
        {
          "output_type": "execute_result",
          "data": {
            "text/plain": [
              "age          0\n",
              "job          0\n",
              "marital      0\n",
              "education    0\n",
              "default      0\n",
              "balance      0\n",
              "housing      0\n",
              "loan         0\n",
              "contact      0\n",
              "day          0\n",
              "month        0\n",
              "duration     0\n",
              "campaign     0\n",
              "pdays        0\n",
              "previous     0\n",
              "poutcome     0\n",
              "deposit      0\n",
              "dtype: int64"
            ]
          },
          "metadata": {},
          "execution_count": 6
        }
      ]
    },
    {
      "cell_type": "code",
      "source": [
        "#checking for unique values\n",
        "df.nunique()"
      ],
      "metadata": {
        "colab": {
          "base_uri": "https://localhost:8080/"
        },
        "id": "V_fWC-MN-jDE",
        "outputId": "7183ef88-9b6d-433c-aebb-e6306eca143e"
      },
      "execution_count": 7,
      "outputs": [
        {
          "output_type": "execute_result",
          "data": {
            "text/plain": [
              "age            76\n",
              "job            12\n",
              "marital         3\n",
              "education       4\n",
              "default         2\n",
              "balance      3805\n",
              "housing         2\n",
              "loan            2\n",
              "contact         3\n",
              "day            31\n",
              "month          12\n",
              "duration     1428\n",
              "campaign       36\n",
              "pdays         472\n",
              "previous       34\n",
              "poutcome        4\n",
              "deposit         2\n",
              "dtype: int64"
            ]
          },
          "metadata": {},
          "execution_count": 7
        }
      ]
    },
    {
      "cell_type": "code",
      "source": [
        "df.duplicated().sum()"
      ],
      "metadata": {
        "colab": {
          "base_uri": "https://localhost:8080/"
        },
        "id": "vK2Shzao9BYi",
        "outputId": "1cfeefd3-16ff-412f-c72b-8b9f2994869c"
      },
      "execution_count": 8,
      "outputs": [
        {
          "output_type": "execute_result",
          "data": {
            "text/plain": [
              "0"
            ]
          },
          "metadata": {},
          "execution_count": 8
        }
      ]
    },
    {
      "cell_type": "markdown",
      "source": [
        "# Exploratory Data Analysis"
      ],
      "metadata": {
        "id": "L3zJZ_JR-Mlq"
      }
    },
    {
      "cell_type": "code",
      "source": [
        "fig = px.histogram(df[\"age\"],\n",
        "                   nbins=20,\n",
        "                   color_discrete_sequence=[\"#FFA07A\"],\n",
        "                   labels = {\"value\" :\"Ages\", \"count\" : \"Frequency\"},\n",
        "                   title=\"The Distribution of Ages\",text_auto=True)\n",
        "\n",
        "fig.update_layout(showlegend = False,title = {\"font\": {\"size\": 26,\"family\": \"tahoma\",}})\n",
        "fig.update_traces(textfont= {\"family\": \"consolas\",\"size\": 14}, hovertemplate = \"Age Range: %{x}<br>Frequency: %{y}\",marker = {\"line\": {\"color\": \"#333\", \"width\":1}} )\n",
        "\n",
        "iplot(fig)"
      ],
      "metadata": {
        "colab": {
          "base_uri": "https://localhost:8080/",
          "height": 542
        },
        "id": "XM42q5tb-Ssq",
        "outputId": "02d1f8ed-3735-4622-ac53-7389920bb4a4"
      },
      "execution_count": 7,
      "outputs": [
        {
          "output_type": "display_data",
          "data": {
            "text/html": [
              "<html>\n",
              "<head><meta charset=\"utf-8\" /></head>\n",
              "<body>\n",
              "    <div>            <script src=\"https://cdnjs.cloudflare.com/ajax/libs/mathjax/2.7.5/MathJax.js?config=TeX-AMS-MML_SVG\"></script><script type=\"text/javascript\">if (window.MathJax && window.MathJax.Hub && window.MathJax.Hub.Config) {window.MathJax.Hub.Config({SVG: {font: \"STIX-Web\"}});}</script>                <script type=\"text/javascript\">window.PlotlyConfig = {MathJaxConfig: 'local'};</script>\n",
              "        <script charset=\"utf-8\" src=\"https://cdn.plot.ly/plotly-2.24.1.min.js\"></script>                <div id=\"1f09e977-924a-4e9b-8cd4-69ee63f83bcf\" class=\"plotly-graph-div\" style=\"height:525px; width:100%;\"></div>            <script type=\"text/javascript\">                                    window.PLOTLYENV=window.PLOTLYENV || {};                                    if (document.getElementById(\"1f09e977-924a-4e9b-8cd4-69ee63f83bcf\")) {                    Plotly.newPlot(                        \"1f09e977-924a-4e9b-8cd4-69ee63f83bcf\",                        [{\"alignmentgroup\":\"True\",\"bingroup\":\"x\",\"hovertemplate\":\"Age Range: %{x}\\u003cbr\\u003eFrequency: %{y}\",\"legendgroup\":\"age\",\"marker\":{\"color\":\"#FFA07A\",\"line\":{\"color\":\"#333\",\"width\":1},\"pattern\":{\"shape\":\"\"}},\"name\":\"age\",\"nbinsx\":20,\"offsetgroup\":\"age\",\"orientation\":\"v\",\"showlegend\":true,\"textfont\":{\"family\":\"consolas\",\"size\":14},\"texttemplate\":\"%{value}\",\"x\":[59,56,41,55,54,42,56,60,37,28,38,30,29,46,31,35,32,49,41,49,28,43,43,43,37,35,31,43,31,28,32,60,26,40,33,32,35,33,38,23,60,48,45,36,52,35,43,52,53,48,41,39,59,41,48,40,48,60,40,57,51,41,41,52,59,44,49,40,41,44,60,29,41,41,42,36,39,31,26,31,29,37,33,24,50,27,54,30,34,37,41,47,31,31,43,37,30,41,36,35,29,35,31,35,34,31,44,36,35,41,31,34,32,36,30,37,36,31,27,34,30,32,37,32,33,35,35,30,45,45,33,44,40,31,30,44,34,37,28,32,37,34,38,28,31,59,24,26,59,30,37,30,25,44,29,26,26,27,25,28,23,34,28,51,35,35,56,45,60,56,27,30,45,29,38,30,44,36,38,36,37,35,38,40,42,46,35,34,32,50,35,36,53,46,26,45,31,29,53,27,39,36,41,36,32,35,36,35,30,42,42,32,29,44,32,31,40,43,27,37,23,25,26,47,35,32,45,30,29,38,23,27,27,29,30,36,35,36,59,47,58,37,46,43,27,38,53,47,56,41,29,50,45,35,26,26,37,30,38,37,53,29,35,28,55,49,50,43,58,38,48,59,58,36,42,41,42,39,57,52,59,56,49,35,36,40,55,58,39,47,40,35,48,48,24,49,36,52,42,36,36,48,51,51,46,37,36,47,40,38,40,39,60,39,51,27,41,42,41,33,46,31,41,41,55,53,55,39,40,59,42,41,27,25,43,44,26,52,54,56,57,29,47,57,40,46,43,45,24,40,38,36,27,26,43,25,27,30,28,27,32,41,37,27,29,33,36,28,55,51,39,42,33,36,45,37,46,32,28,45,41,59,47,31,31,33,52,26,25,25,28,33,45,36,26,38,56,26,26,25,26,40,37,43,41,49,29,39,38,26,32,33,31,49,27,30,35,26,45,34,28,25,30,30,47,57,38,54,25,30,26,31,29,49,60,60,29,55,44,47,35,35,38,34,50,43,44,51,31,39,59,25,58,30,34,51,60,51,37,30,46,29,27,28,34,29,27,26,36,44,39,30,31,56,29,43,32,30,40,42,27,35,35,32,39,31,26,42,27,33,51,33,30,52,42,31,27,44,40,46,32,56,33,33,32,41,31,30,34,43,28,32,31,35,31,25,56,47,39,51,54,58,42,56,55,26,40,26,35,34,41,44,33,36,38,35,41,41,28,26,39,25,37,25,46,25,28,33,32,32,47,50,27,45,51,36,51,33,59,38,40,51,41,38,31,28,41,33,25,45,31,28,49,25,28,54,28,27,49,53,26,37,34,51,39,35,51,30,42,54,51,57,30,37,39,35,48,31,35,48,53,27,55,40,40,38,54,54,50,48,41,51,42,58,47,58,41,50,46,44,36,58,44,49,55,52,60,41,36,41,50,44,54,35,59,42,27,59,43,39,33,36,35,50,55,51,48,55,30,53,40,44,49,40,58,49,38,51,36,55,43,60,57,41,50,53,59,59,52,58,59,49,33,55,42,52,38,55,49,56,46,57,61,45,39,46,43,34,35,36,45,47,42,40,40,32,33,32,46,50,51,30,39,47,40,50,60,32,57,41,50,46,31,36,45,33,47,35,38,33,44,31,31,49,52,31,35,31,36,39,46,48,36,30,33,57,33,35,53,41,32,41,35,48,34,47,46,60,39,57,36,30,33,30,36,49,49,40,49,38,31,34,39,40,47,37,44,55,40,54,35,32,36,37,37,50,58,52,31,40,34,53,43,30,34,48,33,37,57,55,34,44,35,34,49,30,32,56,50,32,45,52,60,47,32,55,36,46,55,30,54,31,46,61,58,38,49,43,52,33,33,53,40,44,42,33,53,60,33,37,45,34,56,57,32,50,30,56,55,34,52,32,31,44,33,53,46,46,59,51,57,43,48,33,59,58,32,44,47,34,51,60,46,41,34,31,37,59,55,33,30,36,44,36,33,36,53,47,39,35,32,46,30,36,47,52,43,44,30,32,42,33,45,45,28,32,28,44,51,56,40,49,50,58,37,27,47,39,43,34,35,58,35,42,43,34,35,38,39,58,60,56,31,37,59,49,30,31,40,43,48,34,28,34,47,59,32,31,27,35,32,57,58,30,37,44,57,34,54,55,59,53,37,45,49,31,31,35,37,48,39,34,49,41,46,54,38,39,46,58,32,30,51,30,35,30,30,43,47,51,32,53,33,40,42,46,32,38,32,30,35,36,43,42,40,32,32,41,34,40,32,32,36,45,47,35,36,33,30,32,45,47,46,39,30,45,43,53,43,54,30,30,36,33,38,37,32,59,59,46,32,52,45,52,31,31,39,35,33,50,36,34,46,47,39,31,41,59,39,48,50,31,30,31,30,34,53,34,57,41,40,37,31,58,39,47,44,45,41,33,30,30,42,49,59,31,43,38,30,35,43,34,52,46,46,37,42,23,53,26,49,34,28,46,26,31,51,47,53,29,32,26,40,33,49,60,41,36,29,42,33,31,31,26,40,45,55,29,47,50,44,56,39,59,43,36,29,38,41,58,61,36,30,43,39,48,26,51,37,29,57,25,68,34,38,54,32,41,48,59,39,31,30,40,28,52,32,34,31,57,31,29,75,32,31,41,22,31,69,30,49,29,43,28,56,39,33,38,30,29,69,44,35,31,26,26,34,42,54,53,54,48,40,28,34,34,32,31,31,66,37,33,50,33,56,26,59,32,22,34,39,28,31,33,66,26,30,28,29,49,34,47,42,43,61,35,40,31,33,69,30,41,31,22,37,48,85,72,46,26,37,53,33,90,54,67,42,71,44,47,44,37,37,28,21,32,51,26,74,65,47,38,71,29,61,57,37,68,29,51,41,24,24,59,85,51,39,44,26,48,37,71,62,26,43,30,50,25,25,31,28,66,41,46,42,28,39,42,35,55,37,29,49,44,54,28,30,47,34,37,25,29,62,58,46,56,33,27,60,32,83,35,31,30,29,36,57,21,44,23,34,32,37,35,47,61,30,70,52,28,57,24,32,65,44,32,33,53,31,58,30,47,60,36,37,43,37,31,31,30,30,32,35,59,33,37,31,26,53,34,46,76,46,83,23,34,24,41,28,34,77,36,58,46,59,19,23,27,73,41,30,26,38,46,27,63,34,32,33,47,48,58,50,26,39,55,41,54,33,42,50,40,37,44,30,26,47,46,25,56,36,35,54,48,32,60,67,32,26,33,21,30,27,30,36,27,29,38,23,38,30,41,33,35,29,68,20,30,32,28,45,29,31,39,42,35,34,26,29,44,34,33,34,33,22,32,36,44,65,61,41,24,77,62,30,29,29,65,43,70,32,46,33,57,62,32,39,76,36,27,38,56,51,39,35,32,51,37,52,35,47,31,49,30,35,44,42,29,42,43,36,36,32,54,50,32,28,40,34,52,35,32,60,34,30,39,40,38,35,37,29,36,34,33,29,33,41,74,53,38,41,52,40,32,28,28,35,46,50,44,29,61,70,44,59,45,39,36,78,28,50,73,34,28,42,54,27,73,33,51,32,33,26,32,41,39,24,37,35,26,29,63,95,65,59,35,74,56,26,30,29,78,45,29,39,45,45,36,41,38,33,30,65,75,65,53,40,31,25,37,32,45,35,74,37,59,76,25,27,39,24,28,51,66,28,30,58,32,31,71,37,56,65,72,51,35,34,29,30,39,45,28,52,59,38,47,52,38,29,36,58,31,59,47,36,21,23,47,29,25,37,33,59,58,44,48,34,42,54,42,42,44,37,29,47,24,34,30,46,34,59,35,33,35,37,35,38,33,42,33,53,53,31,26,30,24,28,26,35,28,30,32,52,38,34,29,30,31,24,25,47,33,34,36,50,34,54,47,31,36,35,25,46,49,47,35,30,31,55,25,26,85,29,39,33,33,58,61,50,54,33,36,31,24,29,40,29,30,45,37,28,33,33,45,25,41,38,47,49,42,33,36,60,33,33,33,32,36,45,35,38,30,31,32,44,39,45,32,39,30,63,56,26,37,29,24,35,43,39,59,50,44,35,30,58,37,39,31,33,41,44,46,30,35,27,39,32,37,31,30,34,31,27,36,32,49,29,29,28,60,33,35,31,40,29,35,32,26,42,33,36,35,30,59,44,50,51,51,60,29,43,31,26,23,49,42,39,45,45,39,45,39,23,57,32,29,42,47,36,57,36,53,56,33,59,47,42,38,40,41,43,24,40,40,34,36,38,39,25,39,41,36,34,34,38,40,31,37,58,48,35,34,51,39,39,36,47,35,33,47,38,46,42,47,37,31,46,36,40,39,45,59,34,40,50,36,35,36,35,47,47,38,33,38,39,43,33,34,28,34,42,33,39,32,34,32,48,31,33,48,33,30,35,51,38,39,27,50,34,38,29,40,32,38,36,28,49,26,44,49,31,55,32,35,35,31,28,39,48,32,41,34,32,34,36,29,54,29,35,36,37,37,31,33,59,30,53,26,30,35,34,33,59,36,34,39,42,60,56,30,26,35,22,26,28,35,35,55,32,28,31,23,26,46,34,60,28,29,39,54,34,27,28,39,60,26,32,40,25,48,37,39,40,31,42,51,28,32,36,36,38,36,40,37,51,34,56,35,34,39,29,33,40,22,32,33,29,29,24,31,27,32,30,27,55,28,29,55,25,36,27,25,32,33,38,45,30,32,26,25,33,32,34,29,28,38,35,28,29,20,45,37,32,59,37,59,27,39,43,39,26,39,43,27,32,29,42,53,36,27,43,60,29,26,26,28,28,28,40,24,56,34,28,37,32,43,36,35,29,27,32,33,24,58,43,26,31,25,58,48,60,25,26,25,26,32,25,21,41,30,47,37,34,28,24,26,35,54,44,56,25,25,50,55,57,48,25,49,25,38,45,33,45,26,49,25,53,43,49,54,47,34,54,43,23,48,30,38,34,52,27,40,47,26,37,34,26,44,29,40,43,52,38,33,50,53,42,49,27,32,31,29,49,46,57,28,37,38,49,35,29,52,34,60,32,27,55,29,42,33,29,39,31,60,25,45,29,55,26,30,54,39,26,57,39,25,43,32,43,50,35,37,42,27,27,29,29,26,39,41,29,33,32,30,38,55,25,38,35,31,25,31,27,34,40,27,28,28,35,58,44,57,25,21,49,54,59,28,37,30,35,31,41,30,28,31,53,22,36,33,31,49,51,34,35,32,36,31,25,25,60,40,50,32,60,32,52,59,56,47,43,25,31,27,26,37,27,49,26,28,33,31,32,30,34,58,34,26,49,57,83,61,64,37,68,71,54,37,22,44,37,72,69,41,44,32,79,33,45,40,42,30,28,58,39,31,45,56,46,56,27,30,26,35,52,54,41,24,28,62,52,23,82,63,32,31,37,40,66,37,38,27,58,49,31,31,38,79,71,52,55,46,28,22,49,20,19,34,73,27,59,25,44,28,25,28,52,57,49,33,47,68,40,46,29,55,30,49,48,21,45,43,47,27,20,37,61,57,40,53,65,67,66,67,57,38,56,46,69,32,72,41,72,33,37,34,44,42,58,34,55,71,23,60,18,54,59,32,61,31,42,42,42,70,57,60,53,48,30,39,42,26,46,40,39,58,42,31,21,35,50,36,75,20,57,41,59,36,18,34,55,33,43,34,35,43,74,45,38,32,29,31,50,44,23,56,76,28,34,56,45,36,57,49,49,37,46,26,47,36,37,62,26,45,63,25,60,44,33,39,46,42,56,82,77,36,35,50,62,26,55,22,30,34,31,55,49,67,43,25,59,44,42,29,32,30,38,22,25,34,27,35,45,42,20,60,47,25,65,50,22,43,53,71,28,59,29,51,48,37,37,64,69,36,43,63,70,60,86,72,60,43,57,28,36,66,33,36,29,62,34,29,30,32,39,55,36,27,45,55,52,49,30,39,48,36,27,51,48,70,63,34,46,31,32,40,30,55,57,59,26,73,30,64,36,55,63,52,34,36,31,47,50,70,18,33,24,25,26,32,25,58,42,30,76,79,70,30,60,51,71,31,32,34,28,45,53,38,56,42,47,73,46,73,28,46,74,71,41,73,47,49,40,57,50,34,56,32,50,54,26,40,29,52,38,46,26,25,70,83,43,45,37,71,27,47,42,77,61,57,34,40,84,26,37,47,37,28,54,54,61,30,60,44,33,25,54,24,36,58,33,27,60,56,25,21,73,67,51,48,35,61,35,36,83,50,66,58,30,54,26,43,40,57,75,77,31,22,50,27,73,37,44,40,61,61,47,47,76,30,39,72,77,36,65,54,46,28,61,53,27,55,33,87,57,33,51,76,19,33,55,31,92,30,68,41,29,27,78,82,29,76,38,60,33,43,61,43,57,33,77,35,59,76,73,81,41,57,28,38,52,22,53,60,56,38,44,69,36,75,65,64,30,57,31,36,64,54,26,51,72,30,60,30,66,50,47,80,61,47,30,21,62,26,36,87,61,70,60,41,22,60,54,35,59,29,48,37,36,52,67,36,64,29,27,76,34,54,67,24,53,33,24,32,60,64,35,24,42,40,33,71,52,47,49,26,40,32,33,35,53,20,44,21,36,31,42,33,29,30,32,54,82,47,48,77,38,27,43,33,27,76,81,71,39,18,58,44,67,31,61,36,56,24,33,34,58,64,27,63,23,37,43,35,33,75,40,52,55,71,78,35,52,31,31,38,28,72,29,46,53,58,22,28,31,26,60,29,36,68,48,53,39,28,72,29,26,49,43,28,44,73,39,29,31,30,50,42,37,49,59,80,86,69,79,36,49,69,66,32,47,58,64,72,79,30,36,53,34,29,29,81,57,72,34,57,66,27,50,75,50,32,59,68,31,64,30,60,35,72,30,52,33,84,43,39,25,38,44,20,32,23,35,61,46,70,25,57,55,33,73,34,31,25,30,28,21,87,22,28,31,60,41,24,54,35,70,62,59,48,45,36,33,32,60,39,37,85,79,64,42,47,66,61,27,63,36,38,92,77,30,81,42,48,52,38,61,20,39,44,73,36,48,52,30,36,80,33,56,54,34,66,52,60,28,56,36,45,60,33,77,66,45,30,56,64,30,33,72,44,37,52,37,34,78,45,68,53,39,55,32,76,35,55,41,35,80,38,48,25,36,29,58,46,23,67,30,22,45,40,35,33,60,24,18,65,27,35,39,53,23,34,36,52,36,61,58,48,34,58,39,44,54,27,77,30,61,76,28,35,59,42,35,71,60,34,57,75,64,36,29,34,26,41,47,52,32,21,54,29,32,38,48,46,32,49,37,37,23,58,45,30,23,34,27,28,61,27,34,52,28,35,66,52,26,38,59,47,22,82,60,53,39,27,35,80,47,72,45,37,29,40,32,20,48,60,70,78,52,61,27,63,59,22,66,74,52,71,33,56,30,73,28,27,38,28,37,47,60,42,27,25,90,29,29,63,32,32,42,26,73,26,60,25,64,68,39,40,37,36,33,83,31,64,59,33,35,69,31,73,35,28,34,33,36,44,19,28,51,52,61,39,37,80,61,72,36,74,35,82,71,38,38,53,29,64,35,35,46,25,46,59,35,22,31,43,35,60,54,29,30,28,43,37,62,57,33,47,39,30,28,57,23,56,44,80,47,27,26,50,84,86,46,45,60,47,53,54,19,24,39,53,29,30,32,33,33,57,27,55,36,26,31,25,49,30,32,36,38,45,36,23,38,44,35,75,26,59,30,36,39,24,22,36,22,34,22,57,30,55,38,39,38,24,30,29,25,52,62,40,76,31,42,43,73,41,77,46,35,26,45,29,30,26,63,37,26,54,30,61,69,76,30,64,55,55,29,41,63,45,32,41,37,19,61,40,30,54,49,45,48,60,34,29,77,64,80,26,33,41,28,74,29,72,18,46,37,37,32,51,77,35,53,46,78,34,54,33,23,34,32,54,40,63,37,48,28,35,29,68,53,37,58,37,37,34,50,56,57,29,75,24,46,27,52,38,33,53,64,84,62,41,29,53,30,37,78,47,61,46,31,21,71,52,25,60,30,29,52,59,38,33,31,40,28,66,32,67,39,46,54,47,45,63,60,29,33,48,26,55,36,33,28,28,31,28,49,27,28,65,30,38,36,63,63,28,80,39,31,39,30,67,29,36,24,30,21,27,56,66,71,26,62,32,68,37,27,45,64,38,66,30,39,24,49,34,46,32,52,25,57,64,33,36,59,25,43,37,49,42,27,29,37,47,38,48,55,39,49,68,45,67,60,31,58,41,23,35,33,32,48,43,32,74,32,63,28,31,26,31,39,28,30,24,32,46,60,37,48,52,29,71,47,70,28,31,80,29,23,34,69,19,35,38,32,50,27,53,35,43,30,57,31,65,25,33,79,24,27,36,26,51,70,23,41,53,86,27,34,68,35,28,66,30,60,46,68,63,29,35,64,22,19,31,48,33,34,46,60,36,32,45,44,57,29,31,54,49,35,24,43,34,27,54,38,34,93,36,33,35,41,36,30,41,29,82,37,46,44,61,33,23,45,61,40,82,27,26,27,53,54,64,57,31,61,35,77,36,32,61,69,69,34,45,64,35,22,34,34,55,53,63,37,29,29,38,62,34,56,48,42,68,43,62,68,38,63,48,45,59,35,32,93,33,48,38,29,38,41,57,53,56,33,41,34,29,34,21,37,33,45,61,22,37,45,35,28,31,62,47,57,60,25,40,33,53,30,36,56,38,29,61,62,24,65,70,60,30,51,36,42,58,43,77,34,35,39,35,41,25,51,48,26,55,49,29,67,42,35,37,35,61,60,33,27,24,57,63,61,52,34,28,60,32,34,31,28,55,65,37,35,33,75,48,33,38,25,41,25,27,49,43,52,48,29,43,65,72,26,37,37,28,61,32,51,38,34,60,24,36,46,80,37,39,62,84,24,24,28,31,33,33,64,48,28,28,69,28,24,52,37,25,58,62,41,28,75,21,40,35,49,39,63,38,72,31,49,29,39,78,61,60,58,67,20,28,41,31,37,81,46,46,44,23,40,27,60,55,43,26,25,31,54,29,36,59,37,28,35,32,49,50,55,81,24,38,61,67,28,29,31,71,33,47,39,26,22,34,32,48,32,58,48,28,36,67,30,27,31,27,33,36,62,29,26,59,51,27,60,42,47,43,22,34,39,27,49,42,64,44,64,29,52,52,54,37,48,28,77,63,34,29,38,47,63,30,74,31,33,25,78,26,47,56,54,46,47,24,70,63,22,38,44,52,35,29,41,62,62,38,36,34,60,32,29,32,75,29,68,25,36,38,53,34,23,73,25,51,72,42,59,32,36,34,28,54,27,42,31,41,37,31,33,27,44,22,25,30,46,32,57,41,62,28,77,47,40,41,28,51,47,37,29,24,27,23,32,40,32,57,28,35,35,24,36,66,45,28,45,31,45,34,39,24,33,54,26,30,37,32,39,27,54,54,71,41,29,60,60,36,34,27,34,36,32,55,34,25,51,33,35,55,61,34,55,23,69,37,49,41,39,30,32,61,33,32,45,59,48,18,27,32,50,30,23,40,27,35,53,59,37,24,42,27,29,30,22,39,35,61,33,42,30,51,25,44,34,28,61,21,53,46,52,56,36,30,41,33,28,54,50,58,33,36,51,35,35,34,45,24,45,42,30,60,40,25,48,28,55,47,32,55,27,42,47,36,64,34,72,27,54,19,33,36,26,42,24,28,58,59,46,49,45,32,46,29,30,31,31,33,49,30,29,44,34,62,58,60,62,53,32,39,58,38,56,52,45,28,29,29,60,31,31,57,25,27,24,39,27,24,56,33,38,34,45,35,52,38,23,38,36,33,43,41,46,60,40,33,35,36,28,60,47,35,53,39,46,34,58,34,33,42,32,47,35,77,62,62,38,37,38,31,38,31,34,33,38,28,67,31,49,53,31,60,30,38,49,40,34,35,33,34,28,27,22,27,34,62,36,47,32,33,27,35,47,57,26,46,58,43,49,34,28,33,25,26,32,29,30,23,41,66,62,28,33,77,54,50,31,45,30,40,67,39,20,31,31,33,45,45,31,33,41,31,50,56,28,35,30,64,32,29,29,51,40,45,36,31,43,42,46,34,52,47,40,26,45,55,42,40,43,26,31,31,29,44,35,36,30,48,33,36,46,35,46,32,46,54,36,29,58,35,30,31,35,36,34,28,23,46,33,25,43,38,62,33,53,38,32,24,26,55,47,58,30,39,30,34,34,56,27,46,32,27,36,46,46,49,39,33,48,38,60,33,64,22,34,36,72,37,78,31,20,60,36,51,26,48,49,20,77,42,31,56,32,33,33,54,28,41,51,43,36,49,47,30,31,39,40,48,30,41,33,25,49,32,64,28,37,25,53,62,34,26,39,45,19,33,43,35,52,28,35,50,37,36,61,24,35,32,45,43,39,35,23,34,47,21,37,53,46,26,51,58,51,33,46,34,40,40,46,59,34,49,28,56,28,33,37,38,25,74,42,29,60,41,51,49,41,31,25,32,73,31,32,27,60,34,43,31,42,27,57,30,45,49,31,41,57,57,58,54,36,53,34,27,41,62,27,37,22,27,30,28,27,42,36,27,58,55,52,42,46,32,52,57,40,30,30,39,28,34,30,24,59,38,47,52,35,61,46,55,42,26,58,46,39,29,21,57,31,49,56,30,34,35,55,44,36,63,37,58,37,26,44,37,53,37,40,40,31,36,36,52,39,47,49,32,36,27,71,32,29,64,24,21,42,47,53,33,62,33,58,52,37,37,34,79,54,28,33,21,46,38,32,34,49,31,32,38,27,78,60,36,75,30,30,50,37,60,26,49,40,46,38,74,35,50,54,35,36,30,36,41,30,39,34,32,35,50,28,44,32,30,59,35,30,42,63,35,43,27,29,54,80,57,33,65,59,30,28,29,31,31,49,43,40,39,71,38,30,45,67,58,45,34,27,51,38,28,25,37,38,37,34,37,76,48,49,62,33,19,25,31,38,31,24,24,26,73,29,49,42,68,60,53,62,33,36,46,37,53,34,24,36,34,48,43,32,46,32,45,29,25,20,45,42,29,23,37,35,61,31,41,34,32,32,34,35,44,32,34,50,32,23,32,60,44,30,37,35,36,39,25,33,28,31,56,41,68,61,37,28,46,53,32,33,57,41,24,45,49,30,26,57,39,40,52,35,46,49,22,36,38,40,24,78,25,63,31,41,50,27,27,50,44,26,46,36,35,68,50,36,34,30,22,59,60,32,46,23,22,59,26,35,53,39,32,41,37,35,42,27,57,41,37,44,32,34,42,54,48,73,33,42,57,29,47,51,34,25,50,47,40,79,30,54,53,33,60,35,46,52,50,47,73,35,26,46,42,29,30,37,28,32,53,41,40,53,64,32,48,35,43,25,43,29,61,64,27,38,36,61,49,33,25,33,51,32,32,72,34,38,35,38,43,31,30,22,46,52,35,71,30,25,34,51,25,48,42,55,38,26,27,75,32,39,46,40,36,54,42,42,37,25,29,32,64,55,56,28,52,36,25,66,31,43,59,35,48,38,27,25,56,54,36,31,62,31,66,32,40,43,51,34,47,36,27,52,44,26,32,34,35,32,43,50,40,29,32,50,65,59,44,33,33,57,38,49,45,25,22,32,36,32,45,35,23,50,31,61,42,39,37,30,55,30,57,31,37,34,31,52,48,73,54,38,39,44,29,51,31,33,39,30,39,25,57,35,27,27,28,41,46,38,35,24,24,28,28,53,45,33,51,32,65,32,67,53,41,30,37,27,77,32,25,32,43,30,59,61,32,37,51,55,38,47,59,51,25,67,58,52,54,27,41,72,24,36,39,55,35,32,29,59,33,30,30,37,39,40,29,24,31,62,33,67,44,79,30,38,31,38,36,30,34,27,32,37,56,28,49,23,56,54,59,53,51,31,62,38,25,43,45,78,30,69,48,31,57,45,48,34,37,32,35,31,54,52,29,34,37,66,33,60,55,34,52,29,43,57,32,67,45,47,31,52,41,35,48,53,59,26,30,56,41,52,35,41,39,51,46,43,31,56,35,58,33,36,49,47,61,45,53,31,35,55,50,53,45,45,32,33,51,27,37,45,40,41,35,62,42,38,36,59,46,42,27,44,32,32,43,38,40,44,49,37,40,54,38,45,49,46,39,56,37,39,53,38,25,35,47,40,31,50,40,55,31,59,52,55,49,31,55,38,52,57,65,53,34,41,44,49,39,54,22,31,53,59,59,56,52,57,41,39,35,53,35,25,34,38,42,28,35,34,32,38,32,41,41,26,60,51,24,37,44,74,50,31,31,25,39,30,60,48,30,43,44,29,46,28,34,42,59,27,36,34,30,50,50,45,40,49,54,31,35,34,48,51,47,45,33,33,27,47,54,37,43,49,43,27,44,37,50,50,52,26,35,47,55,26,37,56,33,36,32,30,39,28,36,39,48,34,50,26,35,44,47,62,55,26,88,28,41,25,40,35,65,40,43,29,48,35,30,32,30,30,24,29,44,42,45,57,36,49,30,48,32,35,40,32,37,37,43,48,36,33,33,36,65,50,34,35,32,34,34,33,45,35,53,39,38,35,52,30,37,33,52,29,28,37,33,32,25,37,34,40,40,38,39,37,35,33,38,37,29,42,45,42,33,35,30,31,45,44,31,30,54,35,36,55,45,30,57,59,47,34,46,56,24,40,50,31,37,45,45,36,57,39,47,44,39,40,48,56,50,29,33,57,54,64,61,36,50,30,40,40,30,55,59,37,53,56,33,49,47,34,33,31,44,50,39,41,33,40,42,37,56,49,35,41,52,33,40,44,39,39,28,45,63,32,28,36,34,45,30,59,54,47,41,35,38,36,39,48,42,24,57,35,32,26,27,47,32,48,43,30,28,32,26,38,30,33,37,47,36,48,47,34,28,54,33,41,41,42,32,47,36,34,36,50,53,49,39,47,57,30,54,35,47,38,40,51,51,57,41,31,59,26,41,39,25,33,35,49,31,40,32,42,33,48,28,43,30,41,55,55,54,55,57,27,28,51,27,40,56,35,47,49,35,50,55,56,35,42,34,40,33,33,59,51,47,48,31,39,52,28,56,47,77,39,31,39,32,59,42,50,44,47,51,34,36,32,28,34,40,49,30,56,28,31,28,53,38,54,36,60,40,50,28,33,53,38,34,41,64,45,38,57,34,36,30,32,42,35,42,50,38,38,55,60,33,30,30,51,37,37,45,37,48,42,49,36,54,52,30,37,31,26,51,34,26,32,38,52,44,31,38,32,41,48,29,41,49,40,27,45,48,31,45,43,31,37,38,29,28,55,27,43,29,52,33,27,27,31,31,45,34,48,47,49,55,51,37,33,33,29,57,60,51,45,45,39,25,47,34,40,48,39,38,32,27,47,40,41,40,39,45,31,27,56,39,52,58,48,33,38,42,36,35,45,51,43,45,30,40,56,48,32,47,30,37,52,49,53,53,34,40,39,33,41,31,45,23,51,34,36,42,33,46,37,33,30,53,46,35,36,46,31,52,48,45,36,53,35,44,38,44,51,32,59,31,52,26,40,35,54,36,45,29,49,52,52,47,33,30,52,54,59,35,29,33,32,50,54,49,39,34,31,46,59,32,39,54,33,59,28,48,39,41,33,37,30,36,53,26,59,44,55,26,41,28,40,47,39,38,37,36,53,47,28,32,25,39,60,39,31,45,36,44,33,31,38,50,40,33,42,42,33,40,52,49,30,26,40,30,55,48,28,54,36,34,39,66,42,55,85,63,37,24,34,28,58,49,31,56,43,32,55,55,31,49,41,56,50,37,35,52,33,42,33,35,28,41,44,26,40,37,33,36,28,37,32,49,36,39,34,32,26,46,78,47,80,25,50,36,42,54,43,29,36,59,47,36,56,55,38,39,35,54,32,30,51,39,46,33,34,33,55,49,37,29,28,21,44,30,46,33,40,42,44,32,34,55,35,47,29,47,39,40,42,31,31,82,44,32,40,26,30,45,32,56,58,28,43,34,40,31,28,45,33,42,32,41,32,37,57,56,37,34,46,40,32,28,46,44,55,75,41,30,33,43,49,32,26,55,46,31,34,37,29,24,46,41,52,27,44,39,52,77,35,49,37,46,43,35,29,52,55,33,40,39,61,63,44,52,58,38,51,29,42,56,55,43,27,54,25,33,46,26,30,39,58,49,49,43,60,57,38,56,45,45,44,40,38,55,40,35,32,31,49,55,51,30,37,36,51,29,32,36,32,56,46,39,57,53,33,43,40,44,59,59,28,26,59,78,33,38,35,30,31,35,45,40,50,29,41,44,29,49,30,37,52,30,40,33,34,33,35,54,32,32,44,53,53,40,29,36,40,58,34,60,23,59,42,50,31,31,28,56,23,30,54,35,29,48,43,40,38,30,60,31,28,31,48,36,41,35,51,35,51,56,59,27,48,24,56,34,35,57,30,40,48,35,46,30,37,30,46,43,40,34,43,31,37,49,38,27,35,47,56,26,29,53,38,33,30,36,37,60,48,32,31,54,31,31,29,23,51,32,48,32,44,35,46,31,31,36,35,35,36,52,27,47,43,41,18,45,41,34,46,38,23,73,41,43,51,45,47,35,38,31,49,29,39,41,34,39,78,33,59,52,35,43,43,36,36,45,47,38,45,33,38,36,38,34,32,49,37,47,28,29,30,34,39,26,38,47,61,35,34,34,56,47,36,43,51,40,38,34,47,57,35,45,55,54,39,58,31,35,45,44,57,41,42,49,52,57,29,34,36,39,53,40,38,34,40,39,51,33,59,30,61,24,36,34,47,40,46,32,39,35,37,45,38,52,28,35,45,33,42,23,49,52,27,34,31,45,32,51,56,44,41,54,31,25,50,41,33,49,34,60,45,40,50,27,53,31,24,68,27,46,23,76,48,60,46,36,30,33,36,44,36,44,70,48,52,34,35,54,47,38,41,28,58,59,32,55,38,40,45,42,53,32,55,54,46,39,36,44,28,36,43,25,31,60,29,46,31,31,45,60,50,34,33,57,38,42,54,46,59,38,49,49,30,52,38,44,39,38,36,32,57,45,43,42,58,53,30,40,35,34,35,28,39,51,29,44,32,28,53,81,33,37,37,35,30,43,45,34,40,60,54,39,44,32,34,44,30,47,74,27,34,52,32,42,31,31,31,57,40,23,43,45,58,38,48,47,49,28,31,38,43,52,43,29,45,59,48,30,23,38,52,44,34,32,41,31,40,52,32,26,29,31,48,27,30,28,35,47,35,31,53,26,35,29,39,31,48,36,27,49,34,28,49,35,53,58,37,27,30,35,32,53,34,38,34,40,48,30,31,37,32,40,41,52,29,49,43,42,37,57,25,30,31,49,47,57,26,40,34,41,53,26,28,54,42,29,49,32,29,60,51,40,44,47,32,43,59,24,26,37,27,32,44,34,39,30,44,22,28,41,30,36,39,38,31,29,42,27,55,28,47,49,38,53,31,57,36,38,30,36,29,32,48,53,35,48,31,30,28,42,31,36,43,28,34,36,28,34,53,52,44,58,47,40,39,33,23,31,39,42,46,22,50,50,34,40,39,51,45,34,30,57,42,51,38,60,38,37,34,39,55,48,42,29,33,35,28,26,40,42,49,32,33,30,20,51,38,53,34,30,36,36,39,33,42,30,23,37,77,33,33,40,58,29,43,34,38,38,40,59,44,60,37,50,50,35,39,29,34,31,51,46,27,61,34,30,58,30,50,30,43,35,36,46,46,29,48,50,53,38,27,36,48,59,21,56,57,41,36,45,40,30,75,35,58,29,54,28,33,56,50,37,49,54,40,33,48,43,35,55,33,41,57,50,63,33,47,36,23,33,36,47,39,44,60,42,32,33,37,33,59,42,59,31,50,29,36,33,38,33,36,36,44,29,44,55,38,39,45,36,36,59,41,29,50,51,29,40,36,49,45,40,31,32,44,27,25,56,59,31,49,50,42,37,36,53,51,42,47,40,25,36,80,60,51,59,80,47,36,31,33,45,33,51,51,48,34,28,33,36,40,34,31,49,35,38,32,33,39,30,53,24,52,27,36,29,47,43,48,57,25,43,50,54,38,41,35,33,51,29,34,51,58,50,38,57,49,42,33,34,36,60,37,41,36,56,34,33,29,43,29,36,33,39,26,41,36,31,34,28,47,41,39,53,45,30,39,30,32,66,26,30,42,44,38,31,34,42,34,31,30,31,47,52,31,51,48,47,55,58,74,30,40,50,36,26,30,34,53,42,33,35,33,41,40,32,54,31,35,47,48,50,33,40,60,68,54,30,42,57,28,55,42,49,41,31,33,55,34,38,46,49,44,57,44,42,37,42,33,31,34,26,42,41,35,26,42,36,60,51,32,46,31,42,45,31,41,28,41,36,41,40,40,58,32,30,43,33,30,37,40,39,39,26,35,59,31,36,26,36,59,42,35,59,44,34,36,43,45,29,29,40,31,29,37,35,35,39,28,31,34,31,51,53,34,42,33,29,25,42,46,52,60,25,55,37,49,42,32,43,26,41,30,42,34,20,45,58,51,55,31,42,48,62,40,37,39,34,52,35,56,37,35,31,42,27,33,31,53,56,80,63,37,43,62,25,51,39,47,39,32,30,34,41,44,43,30,46,36,56,44,37,36,24,49,69,47,29,31,42,30,26,37,28,36,46,58,46,47,50,47,26,42,34,46,51,52,38,44,52,32,35,36,37,26,32,46,50,43,55,35,45,48,31,46,50,53,36,50,40,39,38,32,31,41,41,58,36,54,32,54,46,31,34,46,45,30,38,31,30,43,26,32,33,40,47,34,39,49,41,45,45,54,34,44,56,60,56,60,57,29,39,33,61,58,27,37,34,35,35,49,34,34,48,55,47,52,30,54,40,43,53,25,51,45,42,35,37,43,42,58,43,29,39,59,36,44,34,49,26,51,37,33,36,34,45,38,40,54,34,51,46,52,38,26,39,54,44,52,43,45,38,59,40,34,41,36,40,39,34,31,32,53,28,38,50,36,23,51,51,35,32,60,34,58,58,34,38,34,31,46,36,35,42,28,39,39,39,43,69,43,36,38,38,37,37,31,31,32,42,46,35,31,60,55,45,33,48,36,37,37,54,40,44,46,37,57,43,33,38,31,44,28,31,42,41,20,29,33,36,42,57,35,33,37,55,28,38,38,60,55,48,30,31,25,37,26,45,76,32,52,35,54,33,44,34,38,33,32,36,77,26,33,45,55,55,35,28,55,37,35,33,35,30,35,49,26,26,31,38,54,50,37,29,35,36,57,72,27,48,30,27,57,38,47,57,43,43,32,37,49,32,40,43,46,49,37,40,56,30,40,29,37,38,28,40,58,41,55,40,40,27,52,31,30,59,47,57,43,38,27,46,42,51,42,42,38,43,34,28,43,55,32,49,48,30,43,42,30,31,33,46,38,53,45,56,33,28,39,38,32,52,29,29,33,46,36,35,39,56,42,44,50,46,50,48,39,26,32,36,56,30,39,33,43,32,27,46,42,43,59,44,31,26,51,24,26,54,31,33,42,33,40,46,33,56,38,35,32,51,33,31,31,49,43,40,27,33,47,59,52,35,32,49,54,30,33,50,40,38,34,33,41,30,45,28,35,31,41,32,34,26,29,49,30,44,42,35,39,34,58,35,32,31,41,39,39,38,46,54,34,40,40,30,37,34,66,30,59,56,25,36,33,30,29,52,54,28,58,23,49,47,73,44,29,48,35,41,40,57,43,31,51,52,31,26,36,43,32,26,25,34,30,35,42,53,52,35,29,43,81,35,36,76,44,38,37,41,49,53,34,30,43,36,60,45,49,39,57,49,39,37,45,36,58,48,52,32,51,31,30,34,53,32,52,50,30,34,51,34,26,51,31,29,29,46,35,44,34,27,28,59,38,34,44,35,45,34,57,76,30,48,43,34,30,33,38,52,34,40,36,56,29,34,31,36,30,36,25,32,31,49,37,26,41,47,57,50,36,42,30,43,49,35,32,36,42,34,33,55,46,34,50,30,53,48,55,35,48,45,31,55,41,33,40,51,31,26,39,30,28,48,56,45,38,28,51,32,31,34,46,36,39,42,32,35,50,55,51,43,46,31,38,40,53,41,46,48,31,29,37,37,56,60,46,31,51,38,39,30,35,31,27,42,67,32,49,56,34,50,27,56,44,45,45,37,26,32,25,48,29,46,34,46,31,39,29,38,40,39,49,34,30,57,34,21,35,39,42,25,27,33,51,32,53,29,33,33,32,31,45,57,47,52,56,51,40,30,39,42,25,60,37,48,32,33,51,43,31,36,58,33,31,28,29,34,31,31,37,32,42,34,74,60,32,47,45,50,39,60,47,40,26,43,30,34,35,21,52,31,42,31,58,51,38,32,31,36,33,47,52,42,39,31,52,40,29,49,57,35,26,35,31,57,32,87,44,41,36,56,35,46,32,41,34,48,31,41,36,31,37,48,31,42,50,47,43,59,35,24,49,47,57,29,50,32,23,41,48,29,42,38,31,38,50,36,52,50,38,30,46,54,46,49,36,58,29,41,32,33,31,44,51,38,38,27,41,32,45,54,36,33,40,37,48,36,46,29,41,44,40,33,60,48,37,39,28,44,37,58,50,38,31,33,35,53,58,26,34,50,42,46,45,46,31,44,36,50,33,33,55,40,30,36,34,46,55,56,34,42,48,51,45,35,63,35,25,26,29,26,26,23,51,51,43,81,42,41,35,32,51,33,38,48,50,39,30,39,35,41,41,35,43,27,32,39,37,40,33,29,50,39,32,49,37,57,44,36,55,40,40,44,41,65,31,48,55,34,36,33,46,52,33,29,36,37,53,28,19,41,33,28,40,78,29,36,59,34,82,36,48,36,25,40,33,30,27,34,28,40,47,59,30,39,44,46,32,35,35,38,27,32,37,59,32,31,55,26,30,34,83,46,48,47,31,32,32,39,54,55,28,48,44,47,43,53,42,39,37,58,31,40,38,46,31,32,46,25,28,40,31,39,36,37,48,34,24,33,54,56,41,46,27,32,40,38,36,33,31,34,34,45,52,37,30,35,31,47,32,32,39,31,31,44,40,77,34,48,31,31,32,42,35,57,56,34,52,31,42,46,32,47,46,41,42,31,47,60,35,46,40,48,52,50,34,34,44,44,28,28,29,29,55,31,31,32,31,47,34,53,29,50,49,32,42,37,36,33,36,30,57,37,25,70,41,26,53,55,23,45,34,35,30,36,48,67,35,38,44,54,42,36,26,35,33,58,21,34,38,41,36,38,25,34,34,45,30,42,50,33,35,59,38,33,45,37,35,41,33,30,49,39,44,38,27,45,40,53,32,34,29,34,40,44,36,39,58,37,31,46,26,37,39,36,29,47,47,44,24,30,55,41,57,34,31,56,53,33,67,53,41,46,58,39,30,37,45,50,30,29,32,37,26,51,38,72,42,57,22,46,32,42,37,27,30,34,56,54,57,56,41,32,34,30,42,40,36,42,34,30,35,44,46,38,32,34,53,38,54,32,33,46,49,37,40,35,26,27,39,31,53,50,36,46,36,38,44,56,37,51,41,55,38,21,40,39,30,28,58,50,32,44,47,45,48,60,45,31,30,52,31,53,47,42,57,35,47,37,55,58,33,29,41,53,41,42,52,42,33,44,53,35,47,59,31,40,55,41,46,35,46,31,49,37,41,42,34,55,49,59,26,43,35,43,51,29,42,73,39,39,44,30,32,57,55,24,41,39,52,28,56,33,41,32,50,28,36,36,53,40,34,35,55,49,57,44,57,36,53,25,26,33,33,29,34,46,25,57,50,48,32,45,32,34,56,49,54,44,35,31,34,38,56,49,44,33,33,29,34,57,34,55,47,48,36,34,43,55,58,62,32,35,33,54,41,58,34,58,30,40,35,37,32,33,48,46,35,32,30,46,27,40,60,28,27,31,28,27,36,41,30,52,35,37,37,48,38,44,43,35,40,42,51,46,40,51,24,31,41,34,31,31,52,38,31,34,22,60,28,31,32,77,70,29,34,38,45,40,34,30,56,50,53,48,53,27,46,54,36,31,58,48,29,57,37,53,58,33,38,28,28,37,27,36,53,26,59,31,59,40,27,32,42,43,53,30,53,53,57,33,38,33,42,32,42,41,35,48,24,59,45,39,46,38,30,52,42,46,33,52,49,59,58,26,41,41,39,27,47,52,37,38,42,41,46,40,41,60,59,59,28,45,31,31,46,51,37,40,31,38,39,29,65,26,44,27,35,36,36,24,33,53,45,37,60,30,37,34,28,44,34,70,38,32,39,38,36,32,34,49,45,24,47,36,25,30,29,27,57,38,43,35,38,71,36,40,50,31,33,57,32,52,30,40,50,32,36,60,48,72,46,45,50,29,40,49,42,43,36,37,59,75,53,53,57,30,44,51,30,42,48,40,36,40,47,39,41,42,50,58,70,29,56,32,39,33,47,39,34,36,40,34,54,36,34,50,48,35,33,42,31,54,55,30,30,59,50,59,27,25,37,36,56,52,36,30,31,55,28,44,28,25,39,32,42,31,38,30,50,50,47,29,34,54,43,47,55,35,32,49,39,32,49,32,47,42,52,31,52,38,53,40,31,53,46,49,34,63,41,55,29,47,37,38,29,41,53,40,56,34,28,41,32,51,33,34,26,31,39,50,33,44,38,33,32,33,55,27,39,21,57,29,45,46,47,44,43,44,52,33,27,43,29,43,34,30,56,46,42,51,30,41,57,36,47,37,33,49,34,54,39,58,36,46,31,31,50,40,47,26,29,38,57,47,56,37,66,49,31,30,42,55,33,33,43,32,42,53,42,37,31,57,33,57,30,31,33,33,53,38,60,36,27,32,45,28,57,37,47,35,32,41,35,26,47,36,46,30,44,47,49,55,56,28,34,55,27,38,43,55,30,48,30,58,39,35,41,32,48,76,43,46,59,29,31,36,46,37,48,31,39,39,39,55,54,32,37,36,60,25,50,59,58,49,47,38,32,40,50,35,47,27,48,40,35,39,34,36,56,30,51,41,35,53,25,34,29,33,43,47,35,49,41,49,44,32,27,53,55,60,27,58,42,31,30,32,56,57,57,39,37,32,41,49,36,58,58,33,31,46,42,46,47,42,53,31,39,57,29,32,38,34,35,55,42,32,50,56,36,49,48,32,35,48,40,55,50,55,26,34,45,44,34,39,31,27,41,45,28,39,31,31,31,35,32,49,42,31,35,31,45,24,49,36,28,54,27,34,40,32,41,38,35,31,47,41,29,33,89,54,72,29,41,39,41,31,32,52,41,45,29,32,35,54,41,42,59,58,32,56,50,45,59,47,54,40,37,29,36,33,32,53,33,36,43,45,52,48,40,31,34,54,40,55,33,50,59,40,45,32,50,58,38,57,31,69,26,30,49,36,37,55,36,31,30,36,50,53,39,31,49,35,45,30,47,37,35,41,35,60,58,28,57,35,54,31,32,56,35,33,50,46,35,49,56,33,37,30,34,29,32,29,50,58,30,52,39,43,51,38,30,52,40,37,30,51,27,35,47,29,52,43,31,54,59,51,32,42,46,30,42,39,31,35,34,42,57,38,29,46,48,33,59,23,37,40,44,37,28,39,57,38,60,38,26,32,35,30,37,36,34,28,37,31,34,28,38,80,59,54,29,39,30,41,48,26,55,36,31,35,30,26,32,43,48,49,34,27,31,35,40,39,19,40,25,38,62,27,40,56,33,52,33,38,27,54,35,41,28,55,56,33,42,34,35,46,31,48,38,47,48,57,30,39,31,44,38,58,42,33,55,34,30,35,35,56,27,39,36,35,34,28,37,57,34,38,48,35,40,48,54,49,38,44,44,60,55,27,33,32,51,44,49,42,35,32,39,54,35,41,35,41,36,51,59,44,49,37,60,40,27,34,41,39,34,38,56,42,47,32,37,25,29,48,39,31,28,32,35,51,32,30,54,41,35,44,58,43,52,60,32,41,54,30,36,27,32,34,43,43,31,37,51,52,57,32,47,31,27,31,36,44,34,32,52,60,30,48,39,59,42,77,29,49,57,37,35,63,37,37,52,60,36,48,47,56,45,53,56,59,34,45,32,60,54,41,44,40,40,29,28,35,33,33,50,56,37,53,27,46,36,37,28,40,48,46,39,37,26,35,37,32,31,36,36,38,45,58,34,51,38,73,57,45,34,48,39,35,58,36,43,34,52,36,32,23,57,43,33,45,31,41,47,39,47,57,52,45,42,32,31,25,30,33,29,55,51,68,29,35,38,39,47,22,44,38,56,56,54,39,36,42,51,32,31,23,21,45,51,36,56,41,57,55,34,32,41,32,53,43,27,48,33,41,33,25,38,43,56,28,52,32,33,31,54,36,40,32,27,42,30,43,44,46,36,44,30,34,20,31,34,27,47,56,45,35,32,44,38,32,58,35,40,36,52,35,38,43,43,35,40,49,35,42,29,26,44,29,36,30,52,55,30,29,27,58,33,48,39,55,40,33,56,42,43,41,58,29,38,49,55,53,56,31,29,48,43,29,39,53,48,34,52,30,45,54,44,35,34,22,65,49,38,28,33,34,26,37,40,28,31,42,34,34,53,55,51,58,35,35,31,32,59,50,37,30,41,43,34,42,33,26,32,41,49,51,43,45,42,37,59,31,22,30,52,50,34,30,56,31,51,33,47,46,44,51,39,41,33,31,60,34,58,36,42,44,31,51,59,33,47,43,44,29,30,43,53,46,41,44,38,43,41,44,31,59,30,35,57,53,35,49,41,40,57,38,49,38,26,34,58,30,52,30,52,34,33,34,23,37,59,42,50,41,34,57,52,61,31,27,48,27,37,28,34,42,39,30,35,43,33,24,39,27,50,30,52,30,35,36,39,43,43,46,33,56,60,48,31,36,24,27,36,29,42,44,42,39,45,36,34,43,32,38,29,28,33,43,42,33,32,42,42,29,27,38,45,32,33,48,53,23,41,41,50,28,54,38,27,54,28,32,39,29,46,37,30,41,39,38,55,29,36,60,43,45,36,53,41,51,34,29,35,40,26,32,31,39,30,40,32,46,41,35,40,58,48,37,59,33,36,40,53,32,32,43,30,31,35,39,57,33,35,53,50,46,35,56,54,56,43,40,38,43,46,29,33,49,53,54,33,39,38,49,33,59,35,40,31,35,42,55,33,31,30,30,37,30,47,41,44,59,29,51,32,36,30,34,42,37,42,31,34,32,46,32,37,39,37,32,41,50,57,37,56,37,32,30,27,36,34,53,58,31,38,32,31,59,41,33,52,36,37,39,36,30,32,47,38,51,27,58,56,40,47,23,46,57,40,30,58,36,37,51,30,39,33,60,29,31,52,30,47,46,31,29,34,44,60,51,31,33,53,45,51,30,58,26,37,47,28,28,43,43,57,34,36,32,46,36,33,48,58,56,53,41,35,31,51,40,40,44,37,49,56,25,29,35,41,38,61,36,52,31,33,49,45,71,34,33,28,52,54,51,59,25,35,49,33,30,46,43,28,41,60,49,30,45,47,29,59,27,37,25,39,35,77,58,38,50,27,46,51,58,42,27,34,31,39,42,44,51,50,32,45,29,53,29,57,41,58,52,44,34,44,56,36,45,57,49,37,44,40,28,39,40,33,37,36,39,26,48,51,35,40,40,37,43,48,46,34,52,57,36,33,30,34,35,34,32,30,33,31,33,48,38,53,36,37,36,39,50,49,41,32,30,46,25,27,28,47,39,28,45,30,48,60,48,38,31,52,28,51,32,52,23,51,49,37,32,32,56,49,49,53,32,60,40,41,55,33,49,26,56,27,55,55,26,34,38,88,38,44,43,48,35,49,33,77,56,33,44,40,55,31,42,45,38,32,35,70,41,27,56,59,31,59,32,37,59,51,42,38,35,42,43,31,56,43,39,52,32,37,35,39,44,41,26,50,33,26,31,56,40,27,41,78,60,46,25,30,37,45,31,35,47,55,28,37,34,45,35,32,26,47,33,42,31,30,40,52,48,36,36,47,31,60,49,41,67,35,34,49,33,37,29,53,36,54,55,38,50,50,35,35,51,34,28,57,38,41,38,54,52,35,40,33,35,41,33,25,34,28,41,29,38,39,58,36,46,36,59,36,34,29,39,32,29,53,29,44,28,37,45,39,34,32,40,30,55,50,45,54,37,40,39,59,40,48,73,28,50,35,45,51,47,54,54,35,74,32,56,57,33,44,30,48,38,26,24,28,55,40,39,43,32,35,53,44,42,59,32,47,30,38,40,34,33,27,39,38,55,59,37,38,20,51,48,36,30,45,31,40,58,35,42,48,52,30,43,43,30,46,43,36,42,41,50,25,36,59,50,45,49,54,33,67,31,59,28,58,30,53,51,47,30,38,53,59,57,36,42,56,38,47,30,42,34,29,49,59,30,37,27,24,55,60,30,34,36,44,38,60,58,30,39,44,32,32,47,37,86,38,31,49,53,55,30,41,31,39,43,45,42,35,43,54,43,33,31,42,34,36,51,50,32,37,50,52,30,38,50,32,24,36,42,50,41,34,29,47,44,49,39,31,36,44,29,33,40,33,54,32,57,46,30,35,36,37,41,38,34,45,53,42,55,57,58,48,33,43,29,26,56,54,33,36,46,40,50,55,41,26,35,53,31,59,42,45,58,33,47,31,40,28,42,53,33,28,50,30,37,39,29,32,38,55,38,47,57,32,37,30,39,45,25,53,39,35,58,27,39,41,56,54,46,35,41,36,37,28,49,41,60,30,48,35,28,42,32,40,53,55,41,33,58,32,36,31,33,45,40,29,53,53,35,33,38,31,48,25,35,55,31,43,31,56,34,55,25,57,47,46,41,26,42,37,34,49,32,38,37,32,43,39,34,38,40,34,34,46,31,42,45,54,45,36,28,50,39,33,30,32,27,34,47,39,30,31,38,54,34,26,41,31,31,33,35,58,38,35,38,55,31,28,40,33,33,31,25,41,34,37,41,52,54,33,60,25,33,37,50,40,60,42,40,27,44,34,34,38,31,57,31,31,56,46,31,40,54,26,51,30,54,32,54,45,31,35,42,37,43,30,49,37,54,45,39,50,30,49,31,42,40,35,30,40,39,46,55,32,37,58,36,31,49,32,30,55,32,52,38,60,60,30,44,32,46,34,40,34,43,52,35,34,33,39,32,43,34],\"xaxis\":\"x\",\"yaxis\":\"y\",\"type\":\"histogram\"}],                        {\"barmode\":\"relative\",\"legend\":{\"title\":{\"text\":\"variable\"},\"tracegroupgap\":0},\"showlegend\":false,\"template\":{\"data\":{\"barpolar\":[{\"marker\":{\"line\":{\"color\":\"#E5ECF6\",\"width\":0.5},\"pattern\":{\"fillmode\":\"overlay\",\"size\":10,\"solidity\":0.2}},\"type\":\"barpolar\"}],\"bar\":[{\"error_x\":{\"color\":\"#2a3f5f\"},\"error_y\":{\"color\":\"#2a3f5f\"},\"marker\":{\"line\":{\"color\":\"#E5ECF6\",\"width\":0.5},\"pattern\":{\"fillmode\":\"overlay\",\"size\":10,\"solidity\":0.2}},\"type\":\"bar\"}],\"carpet\":[{\"aaxis\":{\"endlinecolor\":\"#2a3f5f\",\"gridcolor\":\"white\",\"linecolor\":\"white\",\"minorgridcolor\":\"white\",\"startlinecolor\":\"#2a3f5f\"},\"baxis\":{\"endlinecolor\":\"#2a3f5f\",\"gridcolor\":\"white\",\"linecolor\":\"white\",\"minorgridcolor\":\"white\",\"startlinecolor\":\"#2a3f5f\"},\"type\":\"carpet\"}],\"choropleth\":[{\"colorbar\":{\"outlinewidth\":0,\"ticks\":\"\"},\"type\":\"choropleth\"}],\"contourcarpet\":[{\"colorbar\":{\"outlinewidth\":0,\"ticks\":\"\"},\"type\":\"contourcarpet\"}],\"contour\":[{\"colorbar\":{\"outlinewidth\":0,\"ticks\":\"\"},\"colorscale\":[[0.0,\"#0d0887\"],[0.1111111111111111,\"#46039f\"],[0.2222222222222222,\"#7201a8\"],[0.3333333333333333,\"#9c179e\"],[0.4444444444444444,\"#bd3786\"],[0.5555555555555556,\"#d8576b\"],[0.6666666666666666,\"#ed7953\"],[0.7777777777777778,\"#fb9f3a\"],[0.8888888888888888,\"#fdca26\"],[1.0,\"#f0f921\"]],\"type\":\"contour\"}],\"heatmapgl\":[{\"colorbar\":{\"outlinewidth\":0,\"ticks\":\"\"},\"colorscale\":[[0.0,\"#0d0887\"],[0.1111111111111111,\"#46039f\"],[0.2222222222222222,\"#7201a8\"],[0.3333333333333333,\"#9c179e\"],[0.4444444444444444,\"#bd3786\"],[0.5555555555555556,\"#d8576b\"],[0.6666666666666666,\"#ed7953\"],[0.7777777777777778,\"#fb9f3a\"],[0.8888888888888888,\"#fdca26\"],[1.0,\"#f0f921\"]],\"type\":\"heatmapgl\"}],\"heatmap\":[{\"colorbar\":{\"outlinewidth\":0,\"ticks\":\"\"},\"colorscale\":[[0.0,\"#0d0887\"],[0.1111111111111111,\"#46039f\"],[0.2222222222222222,\"#7201a8\"],[0.3333333333333333,\"#9c179e\"],[0.4444444444444444,\"#bd3786\"],[0.5555555555555556,\"#d8576b\"],[0.6666666666666666,\"#ed7953\"],[0.7777777777777778,\"#fb9f3a\"],[0.8888888888888888,\"#fdca26\"],[1.0,\"#f0f921\"]],\"type\":\"heatmap\"}],\"histogram2dcontour\":[{\"colorbar\":{\"outlinewidth\":0,\"ticks\":\"\"},\"colorscale\":[[0.0,\"#0d0887\"],[0.1111111111111111,\"#46039f\"],[0.2222222222222222,\"#7201a8\"],[0.3333333333333333,\"#9c179e\"],[0.4444444444444444,\"#bd3786\"],[0.5555555555555556,\"#d8576b\"],[0.6666666666666666,\"#ed7953\"],[0.7777777777777778,\"#fb9f3a\"],[0.8888888888888888,\"#fdca26\"],[1.0,\"#f0f921\"]],\"type\":\"histogram2dcontour\"}],\"histogram2d\":[{\"colorbar\":{\"outlinewidth\":0,\"ticks\":\"\"},\"colorscale\":[[0.0,\"#0d0887\"],[0.1111111111111111,\"#46039f\"],[0.2222222222222222,\"#7201a8\"],[0.3333333333333333,\"#9c179e\"],[0.4444444444444444,\"#bd3786\"],[0.5555555555555556,\"#d8576b\"],[0.6666666666666666,\"#ed7953\"],[0.7777777777777778,\"#fb9f3a\"],[0.8888888888888888,\"#fdca26\"],[1.0,\"#f0f921\"]],\"type\":\"histogram2d\"}],\"histogram\":[{\"marker\":{\"pattern\":{\"fillmode\":\"overlay\",\"size\":10,\"solidity\":0.2}},\"type\":\"histogram\"}],\"mesh3d\":[{\"colorbar\":{\"outlinewidth\":0,\"ticks\":\"\"},\"type\":\"mesh3d\"}],\"parcoords\":[{\"line\":{\"colorbar\":{\"outlinewidth\":0,\"ticks\":\"\"}},\"type\":\"parcoords\"}],\"pie\":[{\"automargin\":true,\"type\":\"pie\"}],\"scatter3d\":[{\"line\":{\"colorbar\":{\"outlinewidth\":0,\"ticks\":\"\"}},\"marker\":{\"colorbar\":{\"outlinewidth\":0,\"ticks\":\"\"}},\"type\":\"scatter3d\"}],\"scattercarpet\":[{\"marker\":{\"colorbar\":{\"outlinewidth\":0,\"ticks\":\"\"}},\"type\":\"scattercarpet\"}],\"scattergeo\":[{\"marker\":{\"colorbar\":{\"outlinewidth\":0,\"ticks\":\"\"}},\"type\":\"scattergeo\"}],\"scattergl\":[{\"marker\":{\"colorbar\":{\"outlinewidth\":0,\"ticks\":\"\"}},\"type\":\"scattergl\"}],\"scattermapbox\":[{\"marker\":{\"colorbar\":{\"outlinewidth\":0,\"ticks\":\"\"}},\"type\":\"scattermapbox\"}],\"scatterpolargl\":[{\"marker\":{\"colorbar\":{\"outlinewidth\":0,\"ticks\":\"\"}},\"type\":\"scatterpolargl\"}],\"scatterpolar\":[{\"marker\":{\"colorbar\":{\"outlinewidth\":0,\"ticks\":\"\"}},\"type\":\"scatterpolar\"}],\"scatter\":[{\"fillpattern\":{\"fillmode\":\"overlay\",\"size\":10,\"solidity\":0.2},\"type\":\"scatter\"}],\"scatterternary\":[{\"marker\":{\"colorbar\":{\"outlinewidth\":0,\"ticks\":\"\"}},\"type\":\"scatterternary\"}],\"surface\":[{\"colorbar\":{\"outlinewidth\":0,\"ticks\":\"\"},\"colorscale\":[[0.0,\"#0d0887\"],[0.1111111111111111,\"#46039f\"],[0.2222222222222222,\"#7201a8\"],[0.3333333333333333,\"#9c179e\"],[0.4444444444444444,\"#bd3786\"],[0.5555555555555556,\"#d8576b\"],[0.6666666666666666,\"#ed7953\"],[0.7777777777777778,\"#fb9f3a\"],[0.8888888888888888,\"#fdca26\"],[1.0,\"#f0f921\"]],\"type\":\"surface\"}],\"table\":[{\"cells\":{\"fill\":{\"color\":\"#EBF0F8\"},\"line\":{\"color\":\"white\"}},\"header\":{\"fill\":{\"color\":\"#C8D4E3\"},\"line\":{\"color\":\"white\"}},\"type\":\"table\"}]},\"layout\":{\"annotationdefaults\":{\"arrowcolor\":\"#2a3f5f\",\"arrowhead\":0,\"arrowwidth\":1},\"autotypenumbers\":\"strict\",\"coloraxis\":{\"colorbar\":{\"outlinewidth\":0,\"ticks\":\"\"}},\"colorscale\":{\"diverging\":[[0,\"#8e0152\"],[0.1,\"#c51b7d\"],[0.2,\"#de77ae\"],[0.3,\"#f1b6da\"],[0.4,\"#fde0ef\"],[0.5,\"#f7f7f7\"],[0.6,\"#e6f5d0\"],[0.7,\"#b8e186\"],[0.8,\"#7fbc41\"],[0.9,\"#4d9221\"],[1,\"#276419\"]],\"sequential\":[[0.0,\"#0d0887\"],[0.1111111111111111,\"#46039f\"],[0.2222222222222222,\"#7201a8\"],[0.3333333333333333,\"#9c179e\"],[0.4444444444444444,\"#bd3786\"],[0.5555555555555556,\"#d8576b\"],[0.6666666666666666,\"#ed7953\"],[0.7777777777777778,\"#fb9f3a\"],[0.8888888888888888,\"#fdca26\"],[1.0,\"#f0f921\"]],\"sequentialminus\":[[0.0,\"#0d0887\"],[0.1111111111111111,\"#46039f\"],[0.2222222222222222,\"#7201a8\"],[0.3333333333333333,\"#9c179e\"],[0.4444444444444444,\"#bd3786\"],[0.5555555555555556,\"#d8576b\"],[0.6666666666666666,\"#ed7953\"],[0.7777777777777778,\"#fb9f3a\"],[0.8888888888888888,\"#fdca26\"],[1.0,\"#f0f921\"]]},\"colorway\":[\"#636efa\",\"#EF553B\",\"#00cc96\",\"#ab63fa\",\"#FFA15A\",\"#19d3f3\",\"#FF6692\",\"#B6E880\",\"#FF97FF\",\"#FECB52\"],\"font\":{\"color\":\"#2a3f5f\"},\"geo\":{\"bgcolor\":\"white\",\"lakecolor\":\"white\",\"landcolor\":\"#E5ECF6\",\"showlakes\":true,\"showland\":true,\"subunitcolor\":\"white\"},\"hoverlabel\":{\"align\":\"left\"},\"hovermode\":\"closest\",\"mapbox\":{\"style\":\"light\"},\"paper_bgcolor\":\"white\",\"plot_bgcolor\":\"#E5ECF6\",\"polar\":{\"angularaxis\":{\"gridcolor\":\"white\",\"linecolor\":\"white\",\"ticks\":\"\"},\"bgcolor\":\"#E5ECF6\",\"radialaxis\":{\"gridcolor\":\"white\",\"linecolor\":\"white\",\"ticks\":\"\"}},\"scene\":{\"xaxis\":{\"backgroundcolor\":\"#E5ECF6\",\"gridcolor\":\"white\",\"gridwidth\":2,\"linecolor\":\"white\",\"showbackground\":true,\"ticks\":\"\",\"zerolinecolor\":\"white\"},\"yaxis\":{\"backgroundcolor\":\"#E5ECF6\",\"gridcolor\":\"white\",\"gridwidth\":2,\"linecolor\":\"white\",\"showbackground\":true,\"ticks\":\"\",\"zerolinecolor\":\"white\"},\"zaxis\":{\"backgroundcolor\":\"#E5ECF6\",\"gridcolor\":\"white\",\"gridwidth\":2,\"linecolor\":\"white\",\"showbackground\":true,\"ticks\":\"\",\"zerolinecolor\":\"white\"}},\"shapedefaults\":{\"line\":{\"color\":\"#2a3f5f\"}},\"ternary\":{\"aaxis\":{\"gridcolor\":\"white\",\"linecolor\":\"white\",\"ticks\":\"\"},\"baxis\":{\"gridcolor\":\"white\",\"linecolor\":\"white\",\"ticks\":\"\"},\"bgcolor\":\"#E5ECF6\",\"caxis\":{\"gridcolor\":\"white\",\"linecolor\":\"white\",\"ticks\":\"\"}},\"title\":{\"x\":0.05},\"xaxis\":{\"automargin\":true,\"gridcolor\":\"white\",\"linecolor\":\"white\",\"ticks\":\"\",\"title\":{\"standoff\":15},\"zerolinecolor\":\"white\",\"zerolinewidth\":2},\"yaxis\":{\"automargin\":true,\"gridcolor\":\"white\",\"linecolor\":\"white\",\"ticks\":\"\",\"title\":{\"standoff\":15},\"zerolinecolor\":\"white\",\"zerolinewidth\":2}}},\"title\":{\"font\":{\"family\":\"tahoma\",\"size\":26},\"text\":\"The Distribution of Ages\"},\"xaxis\":{\"anchor\":\"y\",\"domain\":[0.0,1.0],\"title\":{\"text\":\"Ages\"}},\"yaxis\":{\"anchor\":\"x\",\"domain\":[0.0,1.0],\"title\":{\"text\":\"count\"}}},                        {\"responsive\": true}                    ).then(function(){\n",
              "                            \n",
              "var gd = document.getElementById('1f09e977-924a-4e9b-8cd4-69ee63f83bcf');\n",
              "var x = new MutationObserver(function (mutations, observer) {{\n",
              "        var display = window.getComputedStyle(gd).display;\n",
              "        if (!display || display === 'none') {{\n",
              "            console.log([gd, 'removed!']);\n",
              "            Plotly.purge(gd);\n",
              "            observer.disconnect();\n",
              "        }}\n",
              "}});\n",
              "\n",
              "// Listen for the removal of the full notebook cells\n",
              "var notebookContainer = gd.closest('#notebook-container');\n",
              "if (notebookContainer) {{\n",
              "    x.observe(notebookContainer, {childList: true});\n",
              "}}\n",
              "\n",
              "// Listen for the clearing of the current output cell\n",
              "var outputEl = gd.closest('.output');\n",
              "if (outputEl) {{\n",
              "    x.observe(outputEl, {childList: true});\n",
              "}}\n",
              "\n",
              "                        })                };                            </script>        </div>\n",
              "</body>\n",
              "</html>"
            ]
          },
          "metadata": {}
        }
      ]
    },
    {
      "cell_type": "code",
      "source": [
        "df.job.value_counts()"
      ],
      "metadata": {
        "colab": {
          "base_uri": "https://localhost:8080/"
        },
        "id": "pRQTQ_cR-4fg",
        "outputId": "a9701ff6-91ed-4a09-9908-1e5c319bdd8b"
      },
      "execution_count": 8,
      "outputs": [
        {
          "output_type": "execute_result",
          "data": {
            "text/plain": [
              "management       2566\n",
              "blue-collar      1944\n",
              "technician       1823\n",
              "admin.           1334\n",
              "services          923\n",
              "retired           778\n",
              "self-employed     405\n",
              "student           360\n",
              "unemployed        357\n",
              "entrepreneur      328\n",
              "housemaid         274\n",
              "unknown            70\n",
              "Name: job, dtype: int64"
            ]
          },
          "metadata": {},
          "execution_count": 8
        }
      ]
    },
    {
      "cell_type": "code",
      "source": [
        "df=df[df['job']!='unknown']\n",
        "df.job = df.job.str.replace(\".\", \"\")"
      ],
      "metadata": {
        "id": "cvv7DqzA-6Yl"
      },
      "execution_count": 9,
      "outputs": []
    },
    {
      "cell_type": "code",
      "source": [
        "#finding the mean age per profession\n",
        "age_job=pd.pivot_table(df, values='age', index='job', aggfunc='mean')\n",
        "print(age_job)"
      ],
      "metadata": {
        "colab": {
          "base_uri": "https://localhost:8080/"
        },
        "id": "lZCEn1nI_Pt8",
        "outputId": "b3646e8a-452d-464a-9aa9-17603475d7dc"
      },
      "execution_count": 10,
      "outputs": [
        {
          "output_type": "stream",
          "name": "stdout",
          "text": [
            "                     age\n",
            "job                     \n",
            "admin          39.374063\n",
            "blue-collar    39.505144\n",
            "entrepreneur   42.887195\n",
            "housemaid      47.445255\n",
            "management     40.218239\n",
            "retired        65.424165\n",
            "self-employed  39.809877\n",
            "services       38.141928\n",
            "student        26.102778\n",
            "technician     39.001646\n",
            "unemployed     40.997199\n"
          ]
        }
      ]
    },
    {
      "cell_type": "code",
      "source": [
        "plt.figure(figsize=(12,8))\n",
        "age_job.plot(kind='bar', legend=False)\n",
        "plt.title('Average Age by Job')\n",
        "plt.xlabel('Job')\n",
        "plt.ylabel('Average Age')\n",
        "plt.xticks(rotation=50, ha='right')\n",
        "plt.show()"
      ],
      "metadata": {
        "colab": {
          "base_uri": "https://localhost:8080/",
          "height": 558
        },
        "id": "cEbdSeOY_sB6",
        "outputId": "cc8afb0a-2025-4514-e583-d44a5f900dc6"
      },
      "execution_count": 11,
      "outputs": [
        {
          "output_type": "display_data",
          "data": {
            "text/plain": [
              "<Figure size 1200x800 with 0 Axes>"
            ]
          },
          "metadata": {}
        },
        {
          "output_type": "display_data",
          "data": {
            "text/plain": [
              "<Figure size 640x480 with 1 Axes>"
            ],
            "image/png": "[encoded data removed]"
          },
          "metadata": {}
        }
      ]
    },
    {
      "cell_type": "code",
      "source": [
        "pd.crosstab(df.job,columns=df.education,values=df.age,aggfunc='mean').round(0)"
      ],
      "metadata": {
        "colab": {
          "base_uri": "https://localhost:8080/",
          "height": 425
        },
        "id": "tpNM1o-V3ieW",
        "outputId": "8d5e99a0-d3b3-4a3e-f231-6ec4ab7e161c"
      },
      "execution_count": 11,
      "outputs": [
        {
          "output_type": "execute_result",
          "data": {
            "text/plain": [
              "education      primary  secondary  tertiary  unknown\n",
              "job                                                 \n",
              "admin             48.0       40.0      35.0     46.0\n",
              "blue-collar       42.0       38.0      36.0     43.0\n",
              "entrepreneur      46.0       43.0      42.0     46.0\n",
              "housemaid         50.0       45.0      42.0     54.0\n",
              "management        48.0       42.0      39.0     48.0\n",
              "retired           67.0       64.0      64.0     70.0\n",
              "self-employed     45.0       40.0      38.0     51.0\n",
              "services          44.0       37.0      37.0     43.0\n",
              "student           23.0       25.0      28.0     27.0\n",
              "technician        47.0       39.0      37.0     43.0\n",
              "unemployed        43.0       42.0      37.0     36.0"
            ],
            "text/html": [
              "\n",
              "  <div id=\"df-b8f092ef-04aa-473c-bf63-0eeb88e1f5d6\" class=\"colab-df-container\">\n",
              "    <div>\n",
              "<style scoped>\n",
              "    .dataframe tbody tr th:only-of-type {\n",
              "        vertical-align: middle;\n",
              "    }\n",
              "\n",
              "    .dataframe tbody tr th {\n",
              "        vertical-align: top;\n",
              "    }\n",
              "\n",
              "    .dataframe thead th {\n",
              "        text-align: right;\n",
              "    }\n",
              "</style>\n",
              "<table border=\"1\" class=\"dataframe\">\n",
              "  <thead>\n",
              "    <tr style=\"text-align: right;\">\n",
              "      <th>education</th>\n",
              "      <th>primary</th>\n",
              "      <th>secondary</th>\n",
              "      <th>tertiary</th>\n",
              "      <th>unknown</th>\n",
              "    </tr>\n",
              "    <tr>\n",
              "      <th>job</th>\n",
              "      <th></th>\n",
              "      <th></th>\n",
              "      <th></th>\n",
              "      <th></th>\n",
              "    </tr>\n",
              "  </thead>\n",
              "  <tbody>\n",
              "    <tr>\n",
              "      <th>admin</th>\n",
              "      <td>48.0</td>\n",
              "      <td>40.0</td>\n",
              "      <td>35.0</td>\n",
              "      <td>46.0</td>\n",
              "    </tr>\n",
              "    <tr>\n",
              "      <th>blue-collar</th>\n",
              "      <td>42.0</td>\n",
              "      <td>38.0</td>\n",
              "      <td>36.0</td>\n",
              "      <td>43.0</td>\n",
              "    </tr>\n",
              "    <tr>\n",
              "      <th>entrepreneur</th>\n",
              "      <td>46.0</td>\n",
              "      <td>43.0</td>\n",
              "      <td>42.0</td>\n",
              "      <td>46.0</td>\n",
              "    </tr>\n",
              "    <tr>\n",
              "      <th>housemaid</th>\n",
              "      <td>50.0</td>\n",
              "      <td>45.0</td>\n",
              "      <td>42.0</td>\n",
              "      <td>54.0</td>\n",
              "    </tr>\n",
              "    <tr>\n",
              "      <th>management</th>\n",
              "      <td>48.0</td>\n",
              "      <td>42.0</td>\n",
              "      <td>39.0</td>\n",
              "      <td>48.0</td>\n",
              "    </tr>\n",
              "    <tr>\n",
              "      <th>retired</th>\n",
              "      <td>67.0</td>\n",
              "      <td>64.0</td>\n",
              "      <td>64.0</td>\n",
              "      <td>70.0</td>\n",
              "    </tr>\n",
              "    <tr>\n",
              "      <th>self-employed</th>\n",
              "      <td>45.0</td>\n",
              "      <td>40.0</td>\n",
              "      <td>38.0</td>\n",
              "      <td>51.0</td>\n",
              "    </tr>\n",
              "    <tr>\n",
              "      <th>services</th>\n",
              "      <td>44.0</td>\n",
              "      <td>37.0</td>\n",
              "      <td>37.0</td>\n",
              "      <td>43.0</td>\n",
              "    </tr>\n",
              "    <tr>\n",
              "      <th>student</th>\n",
              "      <td>23.0</td>\n",
              "      <td>25.0</td>\n",
              "      <td>28.0</td>\n",
              "      <td>27.0</td>\n",
              "    </tr>\n",
              "    <tr>\n",
              "      <th>technician</th>\n",
              "      <td>47.0</td>\n",
              "      <td>39.0</td>\n",
              "      <td>37.0</td>\n",
              "      <td>43.0</td>\n",
              "    </tr>\n",
              "    <tr>\n",
              "      <th>unemployed</th>\n",
              "      <td>43.0</td>\n",
              "      <td>42.0</td>\n",
              "      <td>37.0</td>\n",
              "      <td>36.0</td>\n",
              "    </tr>\n",
              "  </tbody>\n",
              "</table>\n",
              "</div>\n",
              "    <div class=\"colab-df-buttons\">\n",
              "\n",
              "  <div class=\"colab-df-container\">\n",
              "    <button class=\"colab-df-convert\" onclick=\"convertToInteractive('df-b8f092ef-04aa-473c-bf63-0eeb88e1f5d6')\"\n",
              "            title=\"Convert this dataframe to an interactive table.\"\n",
              "            style=\"display:none;\">\n",
              "\n",
              "  <svg xmlns=\"http://www.w3.org/2000/svg\" height=\"24px\" viewBox=\"0 -960 960 960\">\n",
              "    <path d=\"M120-120v-720h720v720H120Zm60-500h600v-160H180v160Zm220 220h160v-160H400v160Zm0 220h160v-160H400v160ZM180-400h160v-160H180v160Zm440 0h160v-160H620v160ZM180-180h160v-160H180v160Zm440 0h160v-160H620v160Z\"/>\n",
              "  </svg>\n",
              "    </button>\n",
              "\n",
              "  <style>\n",
              "    .colab-df-container {\n",
              "      display:flex;\n",
              "      gap: 12px;\n",
              "    }\n",
              "\n",
              "    .colab-df-convert {\n",
              "      background-color: #E8F0FE;\n",
              "      border: none;\n",
              "      border-radius: 50%;\n",
              "      cursor: pointer;\n",
              "      display: none;\n",
              "      fill: #1967D2;\n",
              "      height: 32px;\n",
              "      padding: 0 0 0 0;\n",
              "      width: 32px;\n",
              "    }\n",
              "\n",
              "    .colab-df-convert:hover {\n",
              "      background-color: #E2EBFA;\n",
              "      box-shadow: 0px 1px 2px rgba(60, 64, 67, 0.3), 0px 1px 3px 1px rgba(60, 64, 67, 0.15);\n",
              "      fill: #174EA6;\n",
              "    }\n",
              "\n",
              "    .colab-df-buttons div {\n",
              "      margin-bottom: 4px;\n",
              "    }\n",
              "\n",
              "    [theme=dark] .colab-df-convert {\n",
              "      background-color: #3B4455;\n",
              "      fill: #D2E3FC;\n",
              "    }\n",
              "\n",
              "    [theme=dark] .colab-df-convert:hover {\n",
              "      background-color: #434B5C;\n",
              "      box-shadow: 0px 1px 3px 1px rgba(0, 0, 0, 0.15);\n",
              "      filter: drop-shadow(0px 1px 2px rgba(0, 0, 0, 0.3));\n",
              "      fill: #FFFFFF;\n",
              "    }\n",
              "  </style>\n",
              "\n",
              "    <script>\n",
              "      const buttonEl =\n",
              "        document.querySelector('#df-b8f092ef-04aa-473c-bf63-0eeb88e1f5d6 button.colab-df-convert');\n",
              "      buttonEl.style.display =\n",
              "        google.colab.kernel.accessAllowed ? 'block' : 'none';\n",
              "\n",
              "      async function convertToInteractive(key) {\n",
              "        const element = document.querySelector('#df-b8f092ef-04aa-473c-bf63-0eeb88e1f5d6');\n",
              "        const dataTable =\n",
              "          await google.colab.kernel.invokeFunction('convertToInteractive',\n",
              "                                                    [key], {});\n",
              "        if (!dataTable) return;\n",
              "\n",
              "        const docLinkHtml = 'Like what you see? Visit the ' +\n",
              "          '<a target=\"_blank\" href=https://colab.research.google.com/notebooks/data_table.ipynb>data table notebook</a>'\n",
              "          + ' to learn more about interactive tables.';\n",
              "        element.innerHTML = '';\n",
              "        dataTable['output_type'] = 'display_data';\n",
              "        await google.colab.output.renderOutput(dataTable, element);\n",
              "        const docLink = document.createElement('div');\n",
              "        docLink.innerHTML = docLinkHtml;\n",
              "        element.appendChild(docLink);\n",
              "      }\n",
              "    </script>\n",
              "  </div>\n",
              "\n",
              "\n",
              "<div id=\"df-46c5c40e-546b-44eb-b486-20545c7f756b\">\n",
              "  <button class=\"colab-df-quickchart\" onclick=\"quickchart('df-46c5c40e-546b-44eb-b486-20545c7f756b')\"\n",
              "            title=\"Suggest charts\"\n",
              "            style=\"display:none;\">\n",
              "\n",
              "<svg xmlns=\"http://www.w3.org/2000/svg\" height=\"24px\"viewBox=\"0 0 24 24\"\n",
              "     width=\"24px\">\n",
              "    <g>\n",
              "        <path d=\"M19 3H5c-1.1 0-2 .9-2 2v14c0 1.1.9 2 2 2h14c1.1 0 2-.9 2-2V5c0-1.1-.9-2-2-2zM9 17H7v-7h2v7zm4 0h-2V7h2v10zm4 0h-2v-4h2v4z\"/>\n",
              "    </g>\n",
              "</svg>\n",
              "  </button>\n",
              "\n",
              "<style>\n",
              "  .colab-df-quickchart {\n",
              "      --bg-color: #E8F0FE;\n",
              "      --fill-color: #1967D2;\n",
              "      --hover-bg-color: #E2EBFA;\n",
              "      --hover-fill-color: #174EA6;\n",
              "      --disabled-fill-color: #AAA;\n",
              "      --disabled-bg-color: #DDD;\n",
              "  }\n",
              "\n",
              "  [theme=dark] .colab-df-quickchart {\n",
              "      --bg-color: #3B4455;\n",
              "      --fill-color: #D2E3FC;\n",
              "      --hover-bg-color: #434B5C;\n",
              "      --hover-fill-color: #FFFFFF;\n",
              "      --disabled-bg-color: #3B4455;\n",
              "      --disabled-fill-color: #666;\n",
              "  }\n",
              "\n",
              "  .colab-df-quickchart {\n",
              "    background-color: var(--bg-color);\n",
              "    border: none;\n",
              "    border-radius: 50%;\n",
              "    cursor: pointer;\n",
              "    display: none;\n",
              "    fill: var(--fill-color);\n",
              "    height: 32px;\n",
              "    padding: 0;\n",
              "    width: 32px;\n",
              "  }\n",
              "\n",
              "  .colab-df-quickchart:hover {\n",
              "    background-color: var(--hover-bg-color);\n",
              "    box-shadow: 0 1px 2px rgba(60, 64, 67, 0.3), 0 1px 3px 1px rgba(60, 64, 67, 0.15);\n",
              "    fill: var(--button-hover-fill-color);\n",
              "  }\n",
              "\n",
              "  .colab-df-quickchart-complete:disabled,\n",
              "  .colab-df-quickchart-complete:disabled:hover {\n",
              "    background-color: var(--disabled-bg-color);\n",
              "    fill: var(--disabled-fill-color);\n",
              "    box-shadow: none;\n",
              "  }\n",
              "\n",
              "  .colab-df-spinner {\n",
              "    border: 2px solid var(--fill-color);\n",
              "    border-color: transparent;\n",
              "    border-bottom-color: var(--fill-color);\n",
              "    animation:\n",
              "      spin 1s steps(1) infinite;\n",
              "  }\n",
              "\n",
              "  @keyframes spin {\n",
              "    0% {\n",
              "      border-color: transparent;\n",
              "      border-bottom-color: var(--fill-color);\n",
              "      border-left-color: var(--fill-color);\n",
              "    }\n",
              "    20% {\n",
              "      border-color: transparent;\n",
              "      border-left-color: var(--fill-color);\n",
              "      border-top-color: var(--fill-color);\n",
              "    }\n",
              "    30% {\n",
              "      border-color: transparent;\n",
              "      border-left-color: var(--fill-color);\n",
              "      border-top-color: var(--fill-color);\n",
              "      border-right-color: var(--fill-color);\n",
              "    }\n",
              "    40% {\n",
              "      border-color: transparent;\n",
              "      border-right-color: var(--fill-color);\n",
              "      border-top-color: var(--fill-color);\n",
              "    }\n",
              "    60% {\n",
              "      border-color: transparent;\n",
              "      border-right-color: var(--fill-color);\n",
              "    }\n",
              "    80% {\n",
              "      border-color: transparent;\n",
              "      border-right-color: var(--fill-color);\n",
              "      border-bottom-color: var(--fill-color);\n",
              "    }\n",
              "    90% {\n",
              "      border-color: transparent;\n",
              "      border-bottom-color: var(--fill-color);\n",
              "    }\n",
              "  }\n",
              "</style>\n",
              "\n",
              "  <script>\n",
              "    async function quickchart(key) {\n",
              "      const quickchartButtonEl =\n",
              "        document.querySelector('#' + key + ' button');\n",
              "      quickchartButtonEl.disabled = true;  // To prevent multiple clicks.\n",
              "      quickchartButtonEl.classList.add('colab-df-spinner');\n",
              "      try {\n",
              "        const charts = await google.colab.kernel.invokeFunction(\n",
              "            'suggestCharts', [key], {});\n",
              "      } catch (error) {\n",
              "        console.error('Error during call to suggestCharts:', error);\n",
              "      }\n",
              "      quickchartButtonEl.classList.remove('colab-df-spinner');\n",
              "      quickchartButtonEl.classList.add('colab-df-quickchart-complete');\n",
              "    }\n",
              "    (() => {\n",
              "      let quickchartButtonEl =\n",
              "        document.querySelector('#df-46c5c40e-546b-44eb-b486-20545c7f756b button');\n",
              "      quickchartButtonEl.style.display =\n",
              "        google.colab.kernel.accessAllowed ? 'block' : 'none';\n",
              "    })();\n",
              "  </script>\n",
              "</div>\n",
              "\n",
              "    </div>\n",
              "  </div>\n"
            ]
          },
          "metadata": {},
          "execution_count": 11
        }
      ]
    },
    {
      "cell_type": "code",
      "source": [
        "df=df[df['education']!='unknown']\n",
        "df.education.value_counts()"
      ],
      "metadata": {
        "colab": {
          "base_uri": "https://localhost:8080/"
        },
        "id": "WfgXdjHS3q-n",
        "outputId": "b6be43a1-5218-4ab7-d6d3-30821c24ed78"
      },
      "execution_count": 12,
      "outputs": [
        {
          "output_type": "execute_result",
          "data": {
            "text/plain": [
              "secondary    5461\n",
              "tertiary     3680\n",
              "primary      1493\n",
              "Name: education, dtype: int64"
            ]
          },
          "metadata": {},
          "execution_count": 12
        }
      ]
    },
    {
      "cell_type": "code",
      "source": [
        "plt.figure(figsize=(12,8))\n",
        "sb.histplot(data=df, x=df.age, hue=df.education, bins=10,kde=True)\n",
        "\n",
        "plt.title('Histogram of Age with Education ')\n",
        "plt.xlabel('Age')\n",
        "plt.ylabel('Frequency')\n",
        "\n",
        "# Show the plot\n",
        "plt.show()"
      ],
      "metadata": {
        "colab": {
          "base_uri": "https://localhost:8080/",
          "height": 718
        },
        "id": "jy9G_O4a33-5",
        "outputId": "c56e5c4b-7645-41ac-ab6d-dfaa269a35a3"
      },
      "execution_count": 21,
      "outputs": [
        {
          "output_type": "display_data",
          "data": {
            "text/plain": [
              "<Figure size 1200x800 with 1 Axes>"
            ],
            "image/png": "[encoded data removed]"
          },
          "metadata": {}
        }
      ]
    },
    {
      "cell_type": "code",
      "source": [
        "print(df.default.unique())\n",
        "df.default.value_counts()"
      ],
      "metadata": {
        "colab": {
          "base_uri": "https://localhost:8080/"
        },
        "id": "EtDpn1xn6QzT",
        "outputId": "c6bf449a-a232-4d9f-f979-ebc4f8318ea8"
      },
      "execution_count": 22,
      "outputs": [
        {
          "output_type": "stream",
          "name": "stdout",
          "text": [
            "['no' 'yes']\n"
          ]
        },
        {
          "output_type": "execute_result",
          "data": {
            "text/plain": [
              "no     10475\n",
              "yes      159\n",
              "Name: default, dtype: int64"
            ]
          },
          "metadata": {},
          "execution_count": 22
        }
      ]
    },
    {
      "cell_type": "code",
      "source": [
        "plt.figure(figsize=(12,8))\n",
        "sb.boxplot(data=df,x=df.job,y=df.balance)\n",
        "plt.xticks(rotation=45)\n",
        "plt.show()"
      ],
      "metadata": {
        "colab": {
          "base_uri": "https://localhost:8080/",
          "height": 761
        },
        "id": "n_MD15ZD6WUb",
        "outputId": "5e389759-c88a-4a96-eae5-cad39aa2f223"
      },
      "execution_count": 28,
      "outputs": [
        {
          "output_type": "display_data",
          "data": {
            "text/plain": [
              "<Figure size 1200x800 with 1 Axes>"
            ],
            "image/png": "[encoded data removed]"
          },
          "metadata": {}
        }
      ]
    },
    {
      "cell_type": "code",
      "source": [
        "df[df['balance']==df.balance.max()]\n"
      ],
      "metadata": {
        "colab": {
          "base_uri": "https://localhost:8080/",
          "height": 132
        },
        "id": "wyLx2DK-8ajP",
        "outputId": "55da8d44-10fe-423a-c2bc-897a664c6856"
      },
      "execution_count": 13,
      "outputs": [
        {
          "output_type": "execute_result",
          "data": {
            "text/plain": [
              "      age      job  marital  education default  balance housing loan  \\\n",
              "3043   84  retired  married  secondary      no    81204      no   no   \n",
              "3380   84  retired  married  secondary      no    81204      no   no   \n",
              "\n",
              "        contact  day month  duration  campaign  pdays  previous poutcome  \\\n",
              "3043  telephone   28   dec       679         1    313         2    other   \n",
              "3380  telephone    1   apr       390         1     94         3  success   \n",
              "\n",
              "     deposit  \n",
              "3043     yes  \n",
              "3380     yes  "
            ],
            "text/html": [
              "\n",
              "  <div id=\"df-7d512ab9-d234-4fae-9533-578aa49f1d97\" class=\"colab-df-container\">\n",
              "    <div>\n",
              "<style scoped>\n",
              "    .dataframe tbody tr th:only-of-type {\n",
              "        vertical-align: middle;\n",
              "    }\n",
              "\n",
              "    .dataframe tbody tr th {\n",
              "        vertical-align: top;\n",
              "    }\n",
              "\n",
              "    .dataframe thead th {\n",
              "        text-align: right;\n",
              "    }\n",
              "</style>\n",
              "<table border=\"1\" class=\"dataframe\">\n",
              "  <thead>\n",
              "    <tr style=\"text-align: right;\">\n",
              "      <th></th>\n",
              "      <th>age</th>\n",
              "      <th>job</th>\n",
              "      <th>marital</th>\n",
              "      <th>education</th>\n",
              "      <th>default</th>\n",
              "      <th>balance</th>\n",
              "      <th>housing</th>\n",
              "      <th>loan</th>\n",
              "      <th>contact</th>\n",
              "      <th>day</th>\n",
              "      <th>month</th>\n",
              "      <th>duration</th>\n",
              "      <th>campaign</th>\n",
              "      <th>pdays</th>\n",
              "      <th>previous</th>\n",
              "      <th>poutcome</th>\n",
              "      <th>deposit</th>\n",
              "    </tr>\n",
              "  </thead>\n",
              "  <tbody>\n",
              "    <tr>\n",
              "      <th>3043</th>\n",
              "      <td>84</td>\n",
              "      <td>retired</td>\n",
              "      <td>married</td>\n",
              "      <td>secondary</td>\n",
              "      <td>no</td>\n",
              "      <td>81204</td>\n",
              "      <td>no</td>\n",
              "      <td>no</td>\n",
              "      <td>telephone</td>\n",
              "      <td>28</td>\n",
              "      <td>dec</td>\n",
              "      <td>679</td>\n",
              "      <td>1</td>\n",
              "      <td>313</td>\n",
              "      <td>2</td>\n",
              "      <td>other</td>\n",
              "      <td>yes</td>\n",
              "    </tr>\n",
              "    <tr>\n",
              "      <th>3380</th>\n",
              "      <td>84</td>\n",
              "      <td>retired</td>\n",
              "      <td>married</td>\n",
              "      <td>secondary</td>\n",
              "      <td>no</td>\n",
              "      <td>81204</td>\n",
              "      <td>no</td>\n",
              "      <td>no</td>\n",
              "      <td>telephone</td>\n",
              "      <td>1</td>\n",
              "      <td>apr</td>\n",
              "      <td>390</td>\n",
              "      <td>1</td>\n",
              "      <td>94</td>\n",
              "      <td>3</td>\n",
              "      <td>success</td>\n",
              "      <td>yes</td>\n",
              "    </tr>\n",
              "  </tbody>\n",
              "</table>\n",
              "</div>\n",
              "    <div class=\"colab-df-buttons\">\n",
              "\n",
              "  <div class=\"colab-df-container\">\n",
              "    <button class=\"colab-df-convert\" onclick=\"convertToInteractive('df-7d512ab9-d234-4fae-9533-578aa49f1d97')\"\n",
              "            title=\"Convert this dataframe to an interactive table.\"\n",
              "            style=\"display:none;\">\n",
              "\n",
              "  <svg xmlns=\"http://www.w3.org/2000/svg\" height=\"24px\" viewBox=\"0 -960 960 960\">\n",
              "    <path d=\"M120-120v-720h720v720H120Zm60-500h600v-160H180v160Zm220 220h160v-160H400v160Zm0 220h160v-160H400v160ZM180-400h160v-160H180v160Zm440 0h160v-160H620v160ZM180-180h160v-160H180v160Zm440 0h160v-160H620v160Z\"/>\n",
              "  </svg>\n",
              "    </button>\n",
              "\n",
              "  <style>\n",
              "    .colab-df-container {\n",
              "      display:flex;\n",
              "      gap: 12px;\n",
              "    }\n",
              "\n",
              "    .colab-df-convert {\n",
              "      background-color: #E8F0FE;\n",
              "      border: none;\n",
              "      border-radius: 50%;\n",
              "      cursor: pointer;\n",
              "      display: none;\n",
              "      fill: #1967D2;\n",
              "      height: 32px;\n",
              "      padding: 0 0 0 0;\n",
              "      width: 32px;\n",
              "    }\n",
              "\n",
              "    .colab-df-convert:hover {\n",
              "      background-color: #E2EBFA;\n",
              "      box-shadow: 0px 1px 2px rgba(60, 64, 67, 0.3), 0px 1px 3px 1px rgba(60, 64, 67, 0.15);\n",
              "      fill: #174EA6;\n",
              "    }\n",
              "\n",
              "    .colab-df-buttons div {\n",
              "      margin-bottom: 4px;\n",
              "    }\n",
              "\n",
              "    [theme=dark] .colab-df-convert {\n",
              "      background-color: #3B4455;\n",
              "      fill: #D2E3FC;\n",
              "    }\n",
              "\n",
              "    [theme=dark] .colab-df-convert:hover {\n",
              "      background-color: #434B5C;\n",
              "      box-shadow: 0px 1px 3px 1px rgba(0, 0, 0, 0.15);\n",
              "      filter: drop-shadow(0px 1px 2px rgba(0, 0, 0, 0.3));\n",
              "      fill: #FFFFFF;\n",
              "    }\n",
              "  </style>\n",
              "\n",
              "    <script>\n",
              "      const buttonEl =\n",
              "        document.querySelector('#df-7d512ab9-d234-4fae-9533-578aa49f1d97 button.colab-df-convert');\n",
              "      buttonEl.style.display =\n",
              "        google.colab.kernel.accessAllowed ? 'block' : 'none';\n",
              "\n",
              "      async function convertToInteractive(key) {\n",
              "        const element = document.querySelector('#df-7d512ab9-d234-4fae-9533-578aa49f1d97');\n",
              "        const dataTable =\n",
              "          await google.colab.kernel.invokeFunction('convertToInteractive',\n",
              "                                                    [key], {});\n",
              "        if (!dataTable) return;\n",
              "\n",
              "        const docLinkHtml = 'Like what you see? Visit the ' +\n",
              "          '<a target=\"_blank\" href=https://colab.research.google.com/notebooks/data_table.ipynb>data table notebook</a>'\n",
              "          + ' to learn more about interactive tables.';\n",
              "        element.innerHTML = '';\n",
              "        dataTable['output_type'] = 'display_data';\n",
              "        await google.colab.output.renderOutput(dataTable, element);\n",
              "        const docLink = document.createElement('div');\n",
              "        docLink.innerHTML = docLinkHtml;\n",
              "        element.appendChild(docLink);\n",
              "      }\n",
              "    </script>\n",
              "  </div>\n",
              "\n",
              "\n",
              "<div id=\"df-61e0ba41-c546-44a7-9183-32d2c365dd9f\">\n",
              "  <button class=\"colab-df-quickchart\" onclick=\"quickchart('df-61e0ba41-c546-44a7-9183-32d2c365dd9f')\"\n",
              "            title=\"Suggest charts\"\n",
              "            style=\"display:none;\">\n",
              "\n",
              "<svg xmlns=\"http://www.w3.org/2000/svg\" height=\"24px\"viewBox=\"0 0 24 24\"\n",
              "     width=\"24px\">\n",
              "    <g>\n",
              "        <path d=\"M19 3H5c-1.1 0-2 .9-2 2v14c0 1.1.9 2 2 2h14c1.1 0 2-.9 2-2V5c0-1.1-.9-2-2-2zM9 17H7v-7h2v7zm4 0h-2V7h2v10zm4 0h-2v-4h2v4z\"/>\n",
              "    </g>\n",
              "</svg>\n",
              "  </button>\n",
              "\n",
              "<style>\n",
              "  .colab-df-quickchart {\n",
              "      --bg-color: #E8F0FE;\n",
              "      --fill-color: #1967D2;\n",
              "      --hover-bg-color: #E2EBFA;\n",
              "      --hover-fill-color: #174EA6;\n",
              "      --disabled-fill-color: #AAA;\n",
              "      --disabled-bg-color: #DDD;\n",
              "  }\n",
              "\n",
              "  [theme=dark] .colab-df-quickchart {\n",
              "      --bg-color: #3B4455;\n",
              "      --fill-color: #D2E3FC;\n",
              "      --hover-bg-color: #434B5C;\n",
              "      --hover-fill-color: #FFFFFF;\n",
              "      --disabled-bg-color: #3B4455;\n",
              "      --disabled-fill-color: #666;\n",
              "  }\n",
              "\n",
              "  .colab-df-quickchart {\n",
              "    background-color: var(--bg-color);\n",
              "    border: none;\n",
              "    border-radius: 50%;\n",
              "    cursor: pointer;\n",
              "    display: none;\n",
              "    fill: var(--fill-color);\n",
              "    height: 32px;\n",
              "    padding: 0;\n",
              "    width: 32px;\n",
              "  }\n",
              "\n",
              "  .colab-df-quickchart:hover {\n",
              "    background-color: var(--hover-bg-color);\n",
              "    box-shadow: 0 1px 2px rgba(60, 64, 67, 0.3), 0 1px 3px 1px rgba(60, 64, 67, 0.15);\n",
              "    fill: var(--button-hover-fill-color);\n",
              "  }\n",
              "\n",
              "  .colab-df-quickchart-complete:disabled,\n",
              "  .colab-df-quickchart-complete:disabled:hover {\n",
              "    background-color: var(--disabled-bg-color);\n",
              "    fill: var(--disabled-fill-color);\n",
              "    box-shadow: none;\n",
              "  }\n",
              "\n",
              "  .colab-df-spinner {\n",
              "    border: 2px solid var(--fill-color);\n",
              "    border-color: transparent;\n",
              "    border-bottom-color: var(--fill-color);\n",
              "    animation:\n",
              "      spin 1s steps(1) infinite;\n",
              "  }\n",
              "\n",
              "  @keyframes spin {\n",
              "    0% {\n",
              "      border-color: transparent;\n",
              "      border-bottom-color: var(--fill-color);\n",
              "      border-left-color: var(--fill-color);\n",
              "    }\n",
              "    20% {\n",
              "      border-color: transparent;\n",
              "      border-left-color: var(--fill-color);\n",
              "      border-top-color: var(--fill-color);\n",
              "    }\n",
              "    30% {\n",
              "      border-color: transparent;\n",
              "      border-left-color: var(--fill-color);\n",
              "      border-top-color: var(--fill-color);\n",
              "      border-right-color: var(--fill-color);\n",
              "    }\n",
              "    40% {\n",
              "      border-color: transparent;\n",
              "      border-right-color: var(--fill-color);\n",
              "      border-top-color: var(--fill-color);\n",
              "    }\n",
              "    60% {\n",
              "      border-color: transparent;\n",
              "      border-right-color: var(--fill-color);\n",
              "    }\n",
              "    80% {\n",
              "      border-color: transparent;\n",
              "      border-right-color: var(--fill-color);\n",
              "      border-bottom-color: var(--fill-color);\n",
              "    }\n",
              "    90% {\n",
              "      border-color: transparent;\n",
              "      border-bottom-color: var(--fill-color);\n",
              "    }\n",
              "  }\n",
              "</style>\n",
              "\n",
              "  <script>\n",
              "    async function quickchart(key) {\n",
              "      const quickchartButtonEl =\n",
              "        document.querySelector('#' + key + ' button');\n",
              "      quickchartButtonEl.disabled = true;  // To prevent multiple clicks.\n",
              "      quickchartButtonEl.classList.add('colab-df-spinner');\n",
              "      try {\n",
              "        const charts = await google.colab.kernel.invokeFunction(\n",
              "            'suggestCharts', [key], {});\n",
              "      } catch (error) {\n",
              "        console.error('Error during call to suggestCharts:', error);\n",
              "      }\n",
              "      quickchartButtonEl.classList.remove('colab-df-spinner');\n",
              "      quickchartButtonEl.classList.add('colab-df-quickchart-complete');\n",
              "    }\n",
              "    (() => {\n",
              "      let quickchartButtonEl =\n",
              "        document.querySelector('#df-61e0ba41-c546-44a7-9183-32d2c365dd9f button');\n",
              "      quickchartButtonEl.style.display =\n",
              "        google.colab.kernel.accessAllowed ? 'block' : 'none';\n",
              "    })();\n",
              "  </script>\n",
              "</div>\n",
              "\n",
              "    </div>\n",
              "  </div>\n"
            ]
          },
          "metadata": {},
          "execution_count": 13
        }
      ]
    },
    {
      "cell_type": "code",
      "source": [
        "df[df['balance']==df.balance.min()]"
      ],
      "metadata": {
        "colab": {
          "base_uri": "https://localhost:8080/",
          "height": 101
        },
        "id": "f05MxqxW8pBa",
        "outputId": "c0f8f8e6-302a-42af-9dc4-ac8dcc25fec9"
      },
      "execution_count": 14,
      "outputs": [
        {
          "output_type": "execute_result",
          "data": {
            "text/plain": [
              "      age         job  marital education default  balance housing loan  \\\n",
              "6797   49  management  married  tertiary     yes    -6847      no  yes   \n",
              "\n",
              "       contact  day month  duration  campaign  pdays  previous poutcome  \\\n",
              "6797  cellular   21   jul       206         1     -1         0  unknown   \n",
              "\n",
              "     deposit  \n",
              "6797      no  "
            ],
            "text/html": [
              "\n",
              "  <div id=\"df-f986836f-b4ce-4559-9838-4c2937c38115\" class=\"colab-df-container\">\n",
              "    <div>\n",
              "<style scoped>\n",
              "    .dataframe tbody tr th:only-of-type {\n",
              "        vertical-align: middle;\n",
              "    }\n",
              "\n",
              "    .dataframe tbody tr th {\n",
              "        vertical-align: top;\n",
              "    }\n",
              "\n",
              "    .dataframe thead th {\n",
              "        text-align: right;\n",
              "    }\n",
              "</style>\n",
              "<table border=\"1\" class=\"dataframe\">\n",
              "  <thead>\n",
              "    <tr style=\"text-align: right;\">\n",
              "      <th></th>\n",
              "      <th>age</th>\n",
              "      <th>job</th>\n",
              "      <th>marital</th>\n",
              "      <th>education</th>\n",
              "      <th>default</th>\n",
              "      <th>balance</th>\n",
              "      <th>housing</th>\n",
              "      <th>loan</th>\n",
              "      <th>contact</th>\n",
              "      <th>day</th>\n",
              "      <th>month</th>\n",
              "      <th>duration</th>\n",
              "      <th>campaign</th>\n",
              "      <th>pdays</th>\n",
              "      <th>previous</th>\n",
              "      <th>poutcome</th>\n",
              "      <th>deposit</th>\n",
              "    </tr>\n",
              "  </thead>\n",
              "  <tbody>\n",
              "    <tr>\n",
              "      <th>6797</th>\n",
              "      <td>49</td>\n",
              "      <td>management</td>\n",
              "      <td>married</td>\n",
              "      <td>tertiary</td>\n",
              "      <td>yes</td>\n",
              "      <td>-6847</td>\n",
              "      <td>no</td>\n",
              "      <td>yes</td>\n",
              "      <td>cellular</td>\n",
              "      <td>21</td>\n",
              "      <td>jul</td>\n",
              "      <td>206</td>\n",
              "      <td>1</td>\n",
              "      <td>-1</td>\n",
              "      <td>0</td>\n",
              "      <td>unknown</td>\n",
              "      <td>no</td>\n",
              "    </tr>\n",
              "  </tbody>\n",
              "</table>\n",
              "</div>\n",
              "    <div class=\"colab-df-buttons\">\n",
              "\n",
              "  <div class=\"colab-df-container\">\n",
              "    <button class=\"colab-df-convert\" onclick=\"convertToInteractive('df-f986836f-b4ce-4559-9838-4c2937c38115')\"\n",
              "            title=\"Convert this dataframe to an interactive table.\"\n",
              "            style=\"display:none;\">\n",
              "\n",
              "  <svg xmlns=\"http://www.w3.org/2000/svg\" height=\"24px\" viewBox=\"0 -960 960 960\">\n",
              "    <path d=\"M120-120v-720h720v720H120Zm60-500h600v-160H180v160Zm220 220h160v-160H400v160Zm0 220h160v-160H400v160ZM180-400h160v-160H180v160Zm440 0h160v-160H620v160ZM180-180h160v-160H180v160Zm440 0h160v-160H620v160Z\"/>\n",
              "  </svg>\n",
              "    </button>\n",
              "\n",
              "  <style>\n",
              "    .colab-df-container {\n",
              "      display:flex;\n",
              "      gap: 12px;\n",
              "    }\n",
              "\n",
              "    .colab-df-convert {\n",
              "      background-color: #E8F0FE;\n",
              "      border: none;\n",
              "      border-radius: 50%;\n",
              "      cursor: pointer;\n",
              "      display: none;\n",
              "      fill: #1967D2;\n",
              "      height: 32px;\n",
              "      padding: 0 0 0 0;\n",
              "      width: 32px;\n",
              "    }\n",
              "\n",
              "    .colab-df-convert:hover {\n",
              "      background-color: #E2EBFA;\n",
              "      box-shadow: 0px 1px 2px rgba(60, 64, 67, 0.3), 0px 1px 3px 1px rgba(60, 64, 67, 0.15);\n",
              "      fill: #174EA6;\n",
              "    }\n",
              "\n",
              "    .colab-df-buttons div {\n",
              "      margin-bottom: 4px;\n",
              "    }\n",
              "\n",
              "    [theme=dark] .colab-df-convert {\n",
              "      background-color: #3B4455;\n",
              "      fill: #D2E3FC;\n",
              "    }\n",
              "\n",
              "    [theme=dark] .colab-df-convert:hover {\n",
              "      background-color: #434B5C;\n",
              "      box-shadow: 0px 1px 3px 1px rgba(0, 0, 0, 0.15);\n",
              "      filter: drop-shadow(0px 1px 2px rgba(0, 0, 0, 0.3));\n",
              "      fill: #FFFFFF;\n",
              "    }\n",
              "  </style>\n",
              "\n",
              "    <script>\n",
              "      const buttonEl =\n",
              "        document.querySelector('#df-f986836f-b4ce-4559-9838-4c2937c38115 button.colab-df-convert');\n",
              "      buttonEl.style.display =\n",
              "        google.colab.kernel.accessAllowed ? 'block' : 'none';\n",
              "\n",
              "      async function convertToInteractive(key) {\n",
              "        const element = document.querySelector('#df-f986836f-b4ce-4559-9838-4c2937c38115');\n",
              "        const dataTable =\n",
              "          await google.colab.kernel.invokeFunction('convertToInteractive',\n",
              "                                                    [key], {});\n",
              "        if (!dataTable) return;\n",
              "\n",
              "        const docLinkHtml = 'Like what you see? Visit the ' +\n",
              "          '<a target=\"_blank\" href=https://colab.research.google.com/notebooks/data_table.ipynb>data table notebook</a>'\n",
              "          + ' to learn more about interactive tables.';\n",
              "        element.innerHTML = '';\n",
              "        dataTable['output_type'] = 'display_data';\n",
              "        await google.colab.output.renderOutput(dataTable, element);\n",
              "        const docLink = document.createElement('div');\n",
              "        docLink.innerHTML = docLinkHtml;\n",
              "        element.appendChild(docLink);\n",
              "      }\n",
              "    </script>\n",
              "  </div>\n",
              "\n",
              "\n",
              "    </div>\n",
              "  </div>\n"
            ]
          },
          "metadata": {},
          "execution_count": 14
        }
      ]
    },
    {
      "cell_type": "code",
      "source": [
        "df=df[df.balance>0]"
      ],
      "metadata": {
        "id": "N9-wRnbA8q35"
      },
      "execution_count": 15,
      "outputs": []
    },
    {
      "cell_type": "code",
      "source": [
        "plt.figure(figsize=(12, 8))\n",
        "sb.barplot(x='job', y='balance', data=df, alpha=0.5, ci=None)\n",
        "\n",
        "# Set plot labels and title\n",
        "plt.title(' Bar Chart of Job and Avg Balance ')\n",
        "plt.xlabel('Job')\n",
        "plt.ylabel('Value')\n",
        "\n",
        "plt.xticks(rotation=50, ha='right')\n",
        "\n",
        "# Show the plot\n",
        "plt.show()"
      ],
      "metadata": {
        "colab": {
          "base_uri": "https://localhost:8080/",
          "height": 788
        },
        "id": "IgMwxayz8zZV",
        "outputId": "4747beb3-7d91-4c4a-f367-93e56f5315eb"
      },
      "execution_count": 34,
      "outputs": [
        {
          "output_type": "display_data",
          "data": {
            "text/plain": [
              "<Figure size 1200x800 with 1 Axes>"
            ],
            "image/png": "[encoded data removed]"
          },
          "metadata": {}
        }
      ]
    },
    {
      "cell_type": "code",
      "source": [
        "df.housing.unique()"
      ],
      "metadata": {
        "colab": {
          "base_uri": "https://localhost:8080/"
        },
        "id": "8WA5MQeP83Qe",
        "outputId": "b785c822-730e-4cc7-a0aa-c0ea29e2210d"
      },
      "execution_count": 16,
      "outputs": [
        {
          "output_type": "execute_result",
          "data": {
            "text/plain": [
              "array(['yes', 'no'], dtype=object)"
            ]
          },
          "metadata": {},
          "execution_count": 16
        }
      ]
    },
    {
      "cell_type": "code",
      "source": [
        "df.housing.value_counts()"
      ],
      "metadata": {
        "colab": {
          "base_uri": "https://localhost:8080/"
        },
        "id": "oe2A0vTb9i0c",
        "outputId": "d29e6fa0-cb92-45d0-8caf-b901b822f95b"
      },
      "execution_count": 17,
      "outputs": [
        {
          "output_type": "execute_result",
          "data": {
            "text/plain": [
              "no     4945\n",
              "yes    4275\n",
              "Name: housing, dtype: int64"
            ]
          },
          "metadata": {},
          "execution_count": 17
        }
      ]
    },
    {
      "cell_type": "code",
      "source": [
        "df.loan.unique()"
      ],
      "metadata": {
        "colab": {
          "base_uri": "https://localhost:8080/"
        },
        "id": "TClhzi0W9mb9",
        "outputId": "766d842a-9312-4d62-ca18-d80a9b4d7e69"
      },
      "execution_count": 18,
      "outputs": [
        {
          "output_type": "execute_result",
          "data": {
            "text/plain": [
              "array(['no', 'yes'], dtype=object)"
            ]
          },
          "metadata": {},
          "execution_count": 18
        }
      ]
    },
    {
      "cell_type": "code",
      "source": [
        "df.loan.value_counts()"
      ],
      "metadata": {
        "colab": {
          "base_uri": "https://localhost:8080/"
        },
        "id": "B043hgus9qAl",
        "outputId": "4524d7f7-fcac-4354-9424-4e51c9124313"
      },
      "execution_count": 19,
      "outputs": [
        {
          "output_type": "execute_result",
          "data": {
            "text/plain": [
              "no     8112\n",
              "yes    1108\n",
              "Name: loan, dtype: int64"
            ]
          },
          "metadata": {},
          "execution_count": 19
        }
      ]
    },
    {
      "cell_type": "code",
      "source": [
        "# Create a count plot\n",
        "sb.countplot(data=df, x='housing', hue='loan')\n",
        "\n",
        "# Add labels and a title\n",
        "plt.xlabel('Housing')\n",
        "plt.ylabel('Count')\n",
        "plt.title('Count Plot of Housing with Loan Categories')\n",
        "\n",
        "# Show the plot\n",
        "plt.show()"
      ],
      "metadata": {
        "colab": {
          "base_uri": "https://localhost:8080/",
          "height": 472
        },
        "id": "c9mWLThQ9tvX",
        "outputId": "ee6ae008-4a13-453c-d1d0-69f28ce97910"
      },
      "execution_count": 40,
      "outputs": [
        {
          "output_type": "display_data",
          "data": {
            "text/plain": [
              "<Figure size 640x480 with 1 Axes>"
            ],
            "image/png": "[encoded data removed]"
          },
          "metadata": {}
        }
      ]
    },
    {
      "cell_type": "code",
      "source": [
        "df.contact.unique()"
      ],
      "metadata": {
        "colab": {
          "base_uri": "https://localhost:8080/"
        },
        "id": "q9x54v6c9_1c",
        "outputId": "914b2ad2-7de2-442f-c1b7-54bfc15c60e5"
      },
      "execution_count": 41,
      "outputs": [
        {
          "output_type": "execute_result",
          "data": {
            "text/plain": [
              "array(['unknown', 'cellular', 'telephone'], dtype=object)"
            ]
          },
          "metadata": {},
          "execution_count": 41
        }
      ]
    },
    {
      "cell_type": "code",
      "source": [
        "df.contact.value_counts()"
      ],
      "metadata": {
        "colab": {
          "base_uri": "https://localhost:8080/"
        },
        "id": "VV8IXAqO-Edy",
        "outputId": "f12e4da9-b677-4b8f-f2ea-6608a4f60fdc"
      },
      "execution_count": 42,
      "outputs": [
        {
          "output_type": "execute_result",
          "data": {
            "text/plain": [
              "cellular     6718\n",
              "unknown      1867\n",
              "telephone     635\n",
              "Name: contact, dtype: int64"
            ]
          },
          "metadata": {},
          "execution_count": 42
        }
      ]
    },
    {
      "cell_type": "code",
      "source": [
        "df.month.value_counts()"
      ],
      "metadata": {
        "colab": {
          "base_uri": "https://localhost:8080/"
        },
        "id": "3EcoT20--I_k",
        "outputId": "239bc644-1301-42ea-d3a3-3e2727700a9b"
      },
      "execution_count": 43,
      "outputs": [
        {
          "output_type": "execute_result",
          "data": {
            "text/plain": [
              "may    2274\n",
              "aug    1271\n",
              "jul    1130\n",
              "jun    1015\n",
              "nov     818\n",
              "apr     790\n",
              "feb     673\n",
              "oct     339\n",
              "jan     284\n",
              "sep     274\n",
              "mar     252\n",
              "dec     100\n",
              "Name: month, dtype: int64"
            ]
          },
          "metadata": {},
          "execution_count": 43
        }
      ]
    },
    {
      "cell_type": "code",
      "source": [
        "# Create a figure with two subplots\n",
        "plt.figure(figsize=(12, 8))\n",
        "\n",
        "# Subplot 1: Count plot for 'day'\n",
        "plt.subplot(1, 2, 1)\n",
        "sb.countplot(data=df, x='day')\n",
        "plt.title('Count Plot for Day')\n",
        "\n",
        "# Subplot 2: Count plot for 'month'\n",
        "plt.subplot(1, 2, 2)\n",
        "sb.countplot(data=df, x='month')\n",
        "plt.title('Count Plot for Month')\n",
        "\n",
        "# Adjust layout\n",
        "plt.tight_layout()\n",
        "\n",
        "# Show the plots\n",
        "plt.show()"
      ],
      "metadata": {
        "colab": {
          "base_uri": "https://localhost:8080/",
          "height": 756
        },
        "id": "l3T6NXEB-RSC",
        "outputId": "874bf19f-aba4-46e2-f013-682984859c64"
      },
      "execution_count": 45,
      "outputs": [
        {
          "output_type": "display_data",
          "data": {
            "text/plain": [
              "<Figure size 1200x800 with 2 Axes>"
            ],
            "image/png": "[encoded data removed]"
          },
          "metadata": {}
        }
      ]
    },
    {
      "cell_type": "code",
      "source": [
        "result=pd.crosstab(index=df.marital,columns=df.job,values=df.duration,aggfunc='mean').round(2)\n",
        "print(result)"
      ],
      "metadata": {
        "colab": {
          "base_uri": "https://localhost:8080/"
        },
        "id": "Myl3Wclp-04v",
        "outputId": "0f9186dd-ad15-44b7-e501-f81bbdac2e74"
      },
      "execution_count": 20,
      "outputs": [
        {
          "output_type": "stream",
          "name": "stdout",
          "text": [
            "job        admin  blue-collar  entrepreneur  housemaid  management  retired  \\\n",
            "marital                                                                       \n",
            "divorced  384.72       471.83        366.50     340.68      408.47   373.21   \n",
            "married   338.58       383.50        332.57     350.82      353.58   393.67   \n",
            "single    342.50       422.10        436.29     399.82      385.25   414.68   \n",
            "\n",
            "job       self-employed  services  student  technician  unemployed  \n",
            "marital                                                             \n",
            "divorced         471.82    429.66   605.00      330.71      370.57  \n",
            "married          346.71    371.06   408.92      352.83      427.48  \n",
            "single           409.79    365.28   345.73      390.30      434.32  \n"
          ]
        }
      ]
    },
    {
      "cell_type": "code",
      "source": [
        "df.campaign.value_counts()"
      ],
      "metadata": {
        "colab": {
          "base_uri": "https://localhost:8080/"
        },
        "id": "Qfl4KDnSAVqX",
        "outputId": "7790c95c-0cc7-4592-a85e-48b19c685d67"
      },
      "execution_count": 47,
      "outputs": [
        {
          "output_type": "execute_result",
          "data": {
            "text/plain": [
              "1     4011\n",
              "2     2479\n",
              "3     1104\n",
              "4      638\n",
              "5      317\n",
              "6      212\n",
              "7      107\n",
              "8       98\n",
              "9       59\n",
              "10      43\n",
              "11      30\n",
              "13      21\n",
              "12      19\n",
              "17      13\n",
              "14      12\n",
              "15      10\n",
              "18       7\n",
              "21       6\n",
              "16       6\n",
              "30       4\n",
              "24       4\n",
              "22       3\n",
              "19       3\n",
              "23       2\n",
              "20       2\n",
              "29       2\n",
              "32       2\n",
              "27       1\n",
              "41       1\n",
              "25       1\n",
              "28       1\n",
              "26       1\n",
              "33       1\n",
              "Name: campaign, dtype: int64"
            ]
          },
          "metadata": {},
          "execution_count": 47
        }
      ]
    },
    {
      "cell_type": "code",
      "source": [
        "plt.figure(figsize=(12, 6))\n",
        "sb.histplot(data=df,x=df.campaign,bins=5,binrange=(0,20),color='skyblue')\n",
        "plt.title('Distribution of Campaign Contacts')\n",
        "plt.xlabel('Number of Contacts (campaign)')\n",
        "plt.ylabel('Frequency')\n",
        "plt.show()"
      ],
      "metadata": {
        "colab": {
          "base_uri": "https://localhost:8080/",
          "height": 564
        },
        "id": "BvjSl3WbAgDv",
        "outputId": "fc69b680-2422-46f7-db6f-ad1a1be437fd"
      },
      "execution_count": 48,
      "outputs": [
        {
          "output_type": "display_data",
          "data": {
            "text/plain": [
              "<Figure size 1200x600 with 1 Axes>"
            ],
            "image/png": "[encoded data removed]"
          },
          "metadata": {}
        }
      ]
    },
    {
      "cell_type": "code",
      "source": [
        "df.poutcome.value_counts()"
      ],
      "metadata": {
        "colab": {
          "base_uri": "https://localhost:8080/"
        },
        "id": "jSAXjTD3Al8S",
        "outputId": "a04285e7-03e8-499a-bdbc-1d21fe9ec4f8"
      },
      "execution_count": 49,
      "outputs": [
        {
          "output_type": "execute_result",
          "data": {
            "text/plain": [
              "unknown    6757\n",
              "failure    1050\n",
              "success     955\n",
              "other       458\n",
              "Name: poutcome, dtype: int64"
            ]
          },
          "metadata": {},
          "execution_count": 49
        }
      ]
    },
    {
      "cell_type": "code",
      "source": [
        "plt.figure(figsize=(10, 6))\n",
        "sb.countplot(data=df,x='poutcome')\n",
        "\n",
        "plt.show()"
      ],
      "metadata": {
        "colab": {
          "base_uri": "https://localhost:8080/",
          "height": 542
        },
        "id": "-SOtwcJgAqYZ",
        "outputId": "c7f2efde-5c81-4f28-ce49-2f4ad475d165"
      },
      "execution_count": 52,
      "outputs": [
        {
          "output_type": "display_data",
          "data": {
            "text/plain": [
              "<Figure size 1000x600 with 1 Axes>"
            ],
            "image/png": "[encoded data removed]"
          },
          "metadata": {}
        }
      ]
    },
    {
      "cell_type": "code",
      "source": [
        "df.previous.value_counts()"
      ],
      "metadata": {
        "colab": {
          "base_uri": "https://localhost:8080/"
        },
        "id": "kfLHuiXeBaLu",
        "outputId": "25934437-a723-4b4e-d055-05238055aad6"
      },
      "execution_count": 53,
      "outputs": [
        {
          "output_type": "execute_result",
          "data": {
            "text/plain": [
              "0     6755\n",
              "1      758\n",
              "2      610\n",
              "3      386\n",
              "4      216\n",
              "5      139\n",
              "6      103\n",
              "7       67\n",
              "8       50\n",
              "9       28\n",
              "10      27\n",
              "11      17\n",
              "12      13\n",
              "17      10\n",
              "13       9\n",
              "14       4\n",
              "19       4\n",
              "15       4\n",
              "20       2\n",
              "16       2\n",
              "27       2\n",
              "23       2\n",
              "28       1\n",
              "40       1\n",
              "18       1\n",
              "41       1\n",
              "58       1\n",
              "55       1\n",
              "26       1\n",
              "21       1\n",
              "22       1\n",
              "30       1\n",
              "29       1\n",
              "37       1\n",
              "Name: previous, dtype: int64"
            ]
          },
          "metadata": {},
          "execution_count": 53
        }
      ]
    },
    {
      "cell_type": "code",
      "source": [
        "plt.figure(figsize=(10, 6))\n",
        "sb.kdeplot(data=df, x=df.previous,fill=True)\n",
        "plt.title(f'KDE Plot for previous (# of contacts before start campaign) ')\n",
        "plt.xlabel(\"Previous\")\n",
        "plt.ylabel('Density')\n",
        "plt.show()"
      ],
      "metadata": {
        "colab": {
          "base_uri": "https://localhost:8080/",
          "height": 564
        },
        "id": "k0ggbpiYBj8r",
        "outputId": "ac911cd3-4f3e-41eb-a212-64e572a7bc6f"
      },
      "execution_count": 54,
      "outputs": [
        {
          "output_type": "display_data",
          "data": {
            "text/plain": [
              "<Figure size 1000x600 with 1 Axes>"
            ],
            "image/png": "[encoded data removed]"
          },
          "metadata": {}
        }
      ]
    },
    {
      "cell_type": "markdown",
      "source": [
        "# Applying One-Hot Encoding"
      ],
      "metadata": {
        "id": "T-yXlGjKB1Kp"
      }
    },
    {
      "cell_type": "code",
      "source": [
        "from sklearn.model_selection import train_test_split\n",
        "from sklearn.preprocessing import LabelEncoder\n",
        "from sklearn.linear_model import LogisticRegression\n",
        "from sklearn.tree import DecisionTreeClassifier\n",
        "from sklearn.ensemble import RandomForestClassifier\n",
        "from sklearn.svm import SVC\n",
        "from sklearn.neighbors import KNeighborsClassifier\n",
        "from xgboost import XGBClassifier\n",
        "from sklearn.metrics import accuracy_score, classification_report, confusion_matrix"
      ],
      "metadata": {
        "id": "8fkUqk_aBpUe"
      },
      "execution_count": 21,
      "outputs": []
    },
    {
      "cell_type": "code",
      "source": [
        "# Selecting only the categorical columns for one-hot encoding\n",
        "categorical_columns = ['job', 'marital', 'education', 'default', 'housing', 'loan', 'contact', 'month', 'poutcome']\n",
        "\n",
        "# Splitting features (X) and target variable (y)\n",
        "X = df.drop('deposit', axis=1)  # Features\n",
        "y = df['deposit']  # Target variable\n",
        "\n",
        "# Convert 'yes' and 'no' to 1 and 0\n",
        "label_encoder = LabelEncoder()\n",
        "y = label_encoder.fit_transform(y)\n",
        "\n",
        "# Applying one-hot encoding to the selected columns\n",
        "X_encoded = pd.get_dummies(X, columns=categorical_columns)"
      ],
      "metadata": {
        "id": "InGttcUhEJAp"
      },
      "execution_count": 22,
      "outputs": []
    },
    {
      "cell_type": "code",
      "source": [
        "# Splitting the data into training and testing sets\n",
        "X_train, X_test, y_train, y_test = train_test_split(X_encoded, y, test_size=0.2, random_state=42)\n"
      ],
      "metadata": {
        "id": "XZD1-vNdESE3"
      },
      "execution_count": 23,
      "outputs": []
    },
    {
      "cell_type": "code",
      "source": [
        "# Initialize models\n",
        "models = {\n",
        "    'Logistic Regression': LogisticRegression(random_state=42),\n",
        "    'Decision Tree': DecisionTreeClassifier(random_state=42),\n",
        "    'Random Forest': RandomForestClassifier(random_state=42),\n",
        "    'Support Vector Machine': SVC(random_state=42),\n",
        "    'K-Nearest Neighbors': KNeighborsClassifier(),\n",
        "    'XGBoost': XGBClassifier(random_state=42)\n",
        "}"
      ],
      "metadata": {
        "id": "0yZ89rCgEXA-"
      },
      "execution_count": 24,
      "outputs": []
    },
    {
      "cell_type": "code",
      "source": [
        "# Train and evaluate each model\n",
        "for name, model in models.items():\n",
        "    print(f\"\\nTraining {name}...\")\n",
        "    model.fit(X_train, y_train)\n",
        "\n",
        "    # Make predictions on the test set\n",
        "    predictions = model.predict(X_test)\n",
        "\n",
        "    # Evaluate the model's performance\n",
        "    accuracy = accuracy_score(y_test, predictions)\n",
        "    print(f'Accuracy for {name}: {accuracy:.2f}')\n",
        "\n",
        "    print('\\nClassification Report:')\n",
        "    print(classification_report(y_test, predictions))\n",
        "\n",
        "    print('\\nConfusion Matrix:')\n",
        "    print(confusion_matrix(y_test, predictions))"
      ],
      "metadata": {
        "colab": {
          "base_uri": "https://localhost:8080/"
        },
        "id": "TtM6l81nEbZu",
        "outputId": "38c5e2fe-8ad2-4cb7-b54f-5327db4073cd"
      },
      "execution_count": 25,
      "outputs": [
        {
          "output_type": "stream",
          "name": "stdout",
          "text": [
            "\n",
            "Training Logistic Regression...\n",
            "Accuracy for Logistic Regression: 0.78\n",
            "\n",
            "Classification Report:\n",
            "              precision    recall  f1-score   support\n",
            "\n",
            "           0       0.78      0.78      0.78       936\n",
            "           1       0.78      0.78      0.78       908\n",
            "\n",
            "    accuracy                           0.78      1844\n",
            "   macro avg       0.78      0.78      0.78      1844\n",
            "weighted avg       0.78      0.78      0.78      1844\n",
            "\n",
            "\n",
            "Confusion Matrix:\n",
            "[[733 203]\n",
            " [203 705]]\n",
            "\n",
            "Training Decision Tree...\n",
            "Accuracy for Decision Tree: 0.77\n",
            "\n",
            "Classification Report:\n",
            "              precision    recall  f1-score   support\n",
            "\n",
            "           0       0.77      0.77      0.77       936\n",
            "           1       0.77      0.77      0.77       908\n",
            "\n",
            "    accuracy                           0.77      1844\n",
            "   macro avg       0.77      0.77      0.77      1844\n",
            "weighted avg       0.77      0.77      0.77      1844\n",
            "\n",
            "\n",
            "Confusion Matrix:\n",
            "[[724 212]\n",
            " [211 697]]\n",
            "\n",
            "Training Random Forest...\n",
            "Accuracy for Random Forest: 0.84\n",
            "\n",
            "Classification Report:\n",
            "              precision    recall  f1-score   support\n",
            "\n",
            "           0       0.88      0.80      0.84       936\n",
            "           1       0.81      0.89      0.85       908\n",
            "\n",
            "    accuracy                           0.84      1844\n",
            "   macro avg       0.85      0.85      0.84      1844\n",
            "weighted avg       0.85      0.84      0.84      1844\n",
            "\n",
            "\n",
            "Confusion Matrix:\n",
            "[[751 185]\n",
            " [101 807]]\n",
            "\n",
            "Training Support Vector Machine...\n",
            "Accuracy for Support Vector Machine: 0.71\n",
            "\n",
            "Classification Report:\n",
            "              precision    recall  f1-score   support\n",
            "\n",
            "           0       0.68      0.80      0.74       936\n",
            "           1       0.75      0.61      0.67       908\n",
            "\n",
            "    accuracy                           0.71      1844\n",
            "   macro avg       0.72      0.71      0.70      1844\n",
            "weighted avg       0.71      0.71      0.71      1844\n",
            "\n",
            "\n",
            "Confusion Matrix:\n",
            "[[752 184]\n",
            " [354 554]]\n",
            "\n",
            "Training K-Nearest Neighbors...\n",
            "Accuracy for K-Nearest Neighbors: 0.72\n",
            "\n",
            "Classification Report:\n",
            "              precision    recall  f1-score   support\n",
            "\n",
            "           0       0.71      0.74      0.73       936\n",
            "           1       0.72      0.69      0.71       908\n",
            "\n",
            "    accuracy                           0.72      1844\n",
            "   macro avg       0.72      0.72      0.72      1844\n",
            "weighted avg       0.72      0.72      0.72      1844\n",
            "\n",
            "\n",
            "Confusion Matrix:\n",
            "[[695 241]\n",
            " [279 629]]\n",
            "\n",
            "Training XGBoost...\n",
            "Accuracy for XGBoost: 0.86\n",
            "\n",
            "Classification Report:\n",
            "              precision    recall  f1-score   support\n",
            "\n",
            "           0       0.89      0.81      0.85       936\n",
            "           1       0.82      0.90      0.86       908\n",
            "\n",
            "    accuracy                           0.86      1844\n",
            "   macro avg       0.86      0.86      0.86      1844\n",
            "weighted avg       0.86      0.86      0.86      1844\n",
            "\n",
            "\n",
            "Confusion Matrix:\n",
            "[[760 176]\n",
            " [ 90 818]]\n"
          ]
        }
      ]
    },
    {
      "cell_type": "markdown",
      "source": [
        "From the above tests, we observe that XGBoost has the highest accuracy followed by randomforest and the least is for SVM. Hence, we will be creating the model based on XGBoost."
      ],
      "metadata": {
        "id": "s6fIq5vFFMGs"
      }
    },
    {
      "cell_type": "code",
      "source": [
        "# Initialize the XGBoost model\n",
        "xgb_model = XGBClassifier(random_state=42)"
      ],
      "metadata": {
        "id": "OtCjQq7JFfVG"
      },
      "execution_count": 26,
      "outputs": []
    },
    {
      "cell_type": "code",
      "source": [
        "# Train the model\n",
        "xgb_model.fit(X_train, y_train)"
      ],
      "metadata": {
        "colab": {
          "base_uri": "https://localhost:8080/",
          "height": 248
        },
        "id": "sfAA3GZgUBUN",
        "outputId": "cdb571e0-59bf-47a3-e397-15bd1b43769a"
      },
      "execution_count": 27,
      "outputs": [
        {
          "output_type": "execute_result",
          "data": {
            "text/plain": [
              "XGBClassifier(base_score=None, booster=None, callbacks=None,\n",
              "              colsample_bylevel=None, colsample_bynode=None,\n",
              "              colsample_bytree=None, device=None, early_stopping_rounds=None,\n",
              "              enable_categorical=False, eval_metric=None, feature_types=None,\n",
              "              gamma=None, grow_policy=None, importance_type=None,\n",
              "              interaction_constraints=None, learning_rate=None, max_bin=None,\n",
              "              max_cat_threshold=None, max_cat_to_onehot=None,\n",
              "              max_delta_step=None, max_depth=None, max_leaves=None,\n",
              "              min_child_weight=None, missing=nan, monotone_constraints=None,\n",
              "              multi_strategy=None, n_estimators=None, n_jobs=None,\n",
              "              num_parallel_tree=None, random_state=42, ...)"
            ],
            "text/html": [
              "<style>#sk-container-id-1 {color: black;background-color: white;}#sk-container-id-1 pre{padding: 0;}#sk-container-id-1 div.sk-toggleable {background-color: white;}#sk-container-id-1 label.sk-toggleable__label {cursor: pointer;display: block;width: 100%;margin-bottom: 0;padding: 0.3em;box-sizing: border-box;text-align: center;}#sk-container-id-1 label.sk-toggleable__label-arrow:before {content: \"▸\";float: left;margin-right: 0.25em;color: #696969;}#sk-container-id-1 label.sk-toggleable__label-arrow:hover:before {color: black;}#sk-container-id-1 div.sk-estimator:hover label.sk-toggleable__label-arrow:before {color: black;}#sk-container-id-1 div.sk-toggleable__content {max-height: 0;max-width: 0;overflow: hidden;text-align: left;background-color: #f0f8ff;}#sk-container-id-1 div.sk-toggleable__content pre {margin: 0.2em;color: black;border-radius: 0.25em;background-color: #f0f8ff;}#sk-container-id-1 input.sk-toggleable__control:checked~div.sk-toggleable__content {max-height: 200px;max-width: 100%;overflow: auto;}#sk-container-id-1 input.sk-toggleable__control:checked~label.sk-toggleable__label-arrow:before {content: \"▾\";}#sk-container-id-1 div.sk-estimator input.sk-toggleable__control:checked~label.sk-toggleable__label {background-color: #d4ebff;}#sk-container-id-1 div.sk-label input.sk-toggleable__control:checked~label.sk-toggleable__label {background-color: #d4ebff;}#sk-container-id-1 input.sk-hidden--visually {border: 0;clip: rect(1px 1px 1px 1px);clip: rect(1px, 1px, 1px, 1px);height: 1px;margin: -1px;overflow: hidden;padding: 0;position: absolute;width: 1px;}#sk-container-id-1 div.sk-estimator {font-family: monospace;background-color: #f0f8ff;border: 1px dotted black;border-radius: 0.25em;box-sizing: border-box;margin-bottom: 0.5em;}#sk-container-id-1 div.sk-estimator:hover {background-color: #d4ebff;}#sk-container-id-1 div.sk-parallel-item::after {content: \"\";width: 100%;border-bottom: 1px solid gray;flex-grow: 1;}#sk-container-id-1 div.sk-label:hover label.sk-toggleable__label {background-color: #d4ebff;}#sk-container-id-1 div.sk-serial::before {content: \"\";position: absolute;border-left: 1px solid gray;box-sizing: border-box;top: 0;bottom: 0;left: 50%;z-index: 0;}#sk-container-id-1 div.sk-serial {display: flex;flex-direction: column;align-items: center;background-color: white;padding-right: 0.2em;padding-left: 0.2em;position: relative;}#sk-container-id-1 div.sk-item {position: relative;z-index: 1;}#sk-container-id-1 div.sk-parallel {display: flex;align-items: stretch;justify-content: center;background-color: white;position: relative;}#sk-container-id-1 div.sk-item::before, #sk-container-id-1 div.sk-parallel-item::before {content: \"\";position: absolute;border-left: 1px solid gray;box-sizing: border-box;top: 0;bottom: 0;left: 50%;z-index: -1;}#sk-container-id-1 div.sk-parallel-item {display: flex;flex-direction: column;z-index: 1;position: relative;background-color: white;}#sk-container-id-1 div.sk-parallel-item:first-child::after {align-self: flex-end;width: 50%;}#sk-container-id-1 div.sk-parallel-item:last-child::after {align-self: flex-start;width: 50%;}#sk-container-id-1 div.sk-parallel-item:only-child::after {width: 0;}#sk-container-id-1 div.sk-dashed-wrapped {border: 1px dashed gray;margin: 0 0.4em 0.5em 0.4em;box-sizing: border-box;padding-bottom: 0.4em;background-color: white;}#sk-container-id-1 div.sk-label label {font-family: monospace;font-weight: bold;display: inline-block;line-height: 1.2em;}#sk-container-id-1 div.sk-label-container {text-align: center;}#sk-container-id-1 div.sk-container {/* jupyter's `normalize.less` sets `[hidden] { display: none; }` but bootstrap.min.css set `[hidden] { display: none !important; }` so we also need the `!important` here to be able to override the default hidden behavior on the sphinx rendered scikit-learn.org. See: https://github.com/scikit-learn/scikit-learn/issues/21755 */display: inline-block !important;position: relative;}#sk-container-id-1 div.sk-text-repr-fallback {display: none;}</style><div id=\"sk-container-id-1\" class=\"sk-top-container\"><div class=\"sk-text-repr-fallback\"><pre>XGBClassifier(base_score=None, booster=None, callbacks=None,\n",
              "              colsample_bylevel=None, colsample_bynode=None,\n",
              "              colsample_bytree=None, device=None, early_stopping_rounds=None,\n",
              "              enable_categorical=False, eval_metric=None, feature_types=None,\n",
              "              gamma=None, grow_policy=None, importance_type=None,\n",
              "              interaction_constraints=None, learning_rate=None, max_bin=None,\n",
              "              max_cat_threshold=None, max_cat_to_onehot=None,\n",
              "              max_delta_step=None, max_depth=None, max_leaves=None,\n",
              "              min_child_weight=None, missing=nan, monotone_constraints=None,\n",
              "              multi_strategy=None, n_estimators=None, n_jobs=None,\n",
              "              num_parallel_tree=None, random_state=42, ...)</pre><b>In a Jupyter environment, please rerun this cell to show the HTML representation or trust the notebook. <br />On GitHub, the HTML representation is unable to render, please try loading this page with nbviewer.org.</b></div><div class=\"sk-container\" hidden><div class=\"sk-item\"><div class=\"sk-estimator sk-toggleable\"><input class=\"sk-toggleable__control sk-hidden--visually\" id=\"sk-estimator-id-1\" type=\"checkbox\" checked><label for=\"sk-estimator-id-1\" class=\"sk-toggleable__label sk-toggleable__label-arrow\">XGBClassifier</label><div class=\"sk-toggleable__content\"><pre>XGBClassifier(base_score=None, booster=None, callbacks=None,\n",
              "              colsample_bylevel=None, colsample_bynode=None,\n",
              "              colsample_bytree=None, device=None, early_stopping_rounds=None,\n",
              "              enable_categorical=False, eval_metric=None, feature_types=None,\n",
              "              gamma=None, grow_policy=None, importance_type=None,\n",
              "              interaction_constraints=None, learning_rate=None, max_bin=None,\n",
              "              max_cat_threshold=None, max_cat_to_onehot=None,\n",
              "              max_delta_step=None, max_depth=None, max_leaves=None,\n",
              "              min_child_weight=None, missing=nan, monotone_constraints=None,\n",
              "              multi_strategy=None, n_estimators=None, n_jobs=None,\n",
              "              num_parallel_tree=None, random_state=42, ...)</pre></div></div></div></div></div>"
            ]
          },
          "metadata": {},
          "execution_count": 27
        }
      ]
    },
    {
      "cell_type": "code",
      "source": [
        "# Make predictions on the test set\n",
        "xgb_predictions = xgb_model.predict(X_test)"
      ],
      "metadata": {
        "id": "wTkaWb2uUFjj"
      },
      "execution_count": 28,
      "outputs": []
    },
    {
      "cell_type": "code",
      "source": [
        "# Evaluate the model's performance\n",
        "accuracy = accuracy_score(y_test, xgb_predictions)\n",
        "print(f'Accuracy for XGBoost: {accuracy:.2f}')\n",
        "\n",
        "print('\\nClassification Report:')\n",
        "print(classification_report(y_test, xgb_predictions))\n",
        "\n",
        "print('\\nConfusion Matrix:')\n",
        "print(confusion_matrix(y_test, xgb_predictions))"
      ],
      "metadata": {
        "colab": {
          "base_uri": "https://localhost:8080/"
        },
        "id": "NDuTHcZJUHF_",
        "outputId": "b131ae6d-a355-4ae6-95da-53aa0cdb110b"
      },
      "execution_count": 29,
      "outputs": [
        {
          "output_type": "stream",
          "name": "stdout",
          "text": [
            "Accuracy for XGBoost: 0.86\n",
            "\n",
            "Classification Report:\n",
            "              precision    recall  f1-score   support\n",
            "\n",
            "           0       0.89      0.81      0.85       936\n",
            "           1       0.82      0.90      0.86       908\n",
            "\n",
            "    accuracy                           0.86      1844\n",
            "   macro avg       0.86      0.86      0.86      1844\n",
            "weighted avg       0.86      0.86      0.86      1844\n",
            "\n",
            "\n",
            "Confusion Matrix:\n",
            "[[760 176]\n",
            " [ 90 818]]\n"
          ]
        }
      ]
    },
    {
      "cell_type": "code",
      "source": [
        "print(xgb_predictions)"
      ],
      "metadata": {
        "colab": {
          "base_uri": "https://localhost:8080/"
        },
        "id": "zsXuFT5uURza",
        "outputId": "214905f9-7ed3-460c-8dea-e4081113c13b"
      },
      "execution_count": 30,
      "outputs": [
        {
          "output_type": "stream",
          "name": "stdout",
          "text": [
            "[0 1 0 ... 1 0 1]\n"
          ]
        }
      ]
    },
    {
      "cell_type": "code",
      "source": [
        "# Create a DataFrame with actual and predicted values\n",
        "result_df = pd.DataFrame({'Actual': y_test, 'Predicted': xgb_predictions})\n",
        "\n",
        "# Display the DataFrame\n",
        "print(result_df)"
      ],
      "metadata": {
        "colab": {
          "base_uri": "https://localhost:8080/"
        },
        "id": "dsce3ee0YZ3c",
        "outputId": "8a18d142-efd5-4ba6-a19a-589fa41c867f"
      },
      "execution_count": 31,
      "outputs": [
        {
          "output_type": "stream",
          "name": "stdout",
          "text": [
            "      Actual  Predicted\n",
            "0          0          0\n",
            "1          1          1\n",
            "2          0          0\n",
            "3          1          1\n",
            "4          1          1\n",
            "...      ...        ...\n",
            "1839       1          0\n",
            "1840       0          0\n",
            "1841       1          1\n",
            "1842       0          0\n",
            "1843       1          1\n",
            "\n",
            "[1844 rows x 2 columns]\n"
          ]
        }
      ]
    },
    {
      "cell_type": "code",
      "source": [
        "cm = confusion_matrix(y_test, xgb_predictions)\n",
        "\n",
        "# Create a figure of the confusion matrix using seaborn\n",
        "plt.figure(figsize=(8, 6))\n",
        "sb.heatmap(cm, annot=True, fmt='d', cmap='Blues', cbar=False,\n",
        "            xticklabels=['No', 'Yes'], yticklabels=['No', 'Yes'])\n",
        "plt.title('Confusion Matrix')\n",
        "plt.xlabel('Predicted')\n",
        "plt.ylabel('Actual')\n",
        "plt.show()"
      ],
      "metadata": {
        "colab": {
          "base_uri": "https://localhost:8080/",
          "height": 564
        },
        "id": "mzNWQdxIbxHh",
        "outputId": "c31031a2-1e73-4c04-882e-3324a2897f8d"
      },
      "execution_count": 33,
      "outputs": [
        {
          "output_type": "display_data",
          "data": {
            "text/plain": [
              "<Figure size 800x600 with 1 Axes>"
            ],
            "image/png": "[encoded data removed]"
          },
          "metadata": {}
        }
      ]
    },
    {
      "cell_type": "code",
      "source": [
        "from google.colab import drive\n",
        "import pickle"
      ],
      "metadata": {
        "id": "qMLt3HM7cZx0"
      },
      "execution_count": 35,
      "outputs": []
    },
    {
      "cell_type": "code",
      "source": [
        "# Mount Google Drive\n",
        "drive.mount('/content/drive')"
      ],
      "metadata": {
        "colab": {
          "base_uri": "https://localhost:8080/"
        },
        "id": "SO0dPQazcdFD",
        "outputId": "97e2dc0f-f3bf-4646-cab8-3c0c35ddfb62"
      },
      "execution_count": 36,
      "outputs": [
        {
          "output_type": "stream",
          "name": "stdout",
          "text": [
            "Drive already mounted at /content/drive; to attempt to forcibly remount, call drive.mount(\"/content/drive\", force_remount=True).\n"
          ]
        }
      ]
    },
    {
      "cell_type": "code",
      "source": [
        "# Save the trained model to Google Drive\n",
        "model_filename = '/content/drive/My Drive/xgboost_model.pkl'\n",
        "with open(model_filename, 'wb') as model_file:\n",
        "    pickle.dump(xgb_model, model_file)\n",
        "\n",
        "# Load the saved model from Google Drive\n",
        "loaded_model = None\n",
        "with open(model_filename, 'rb') as model_file:\n",
        "    loaded_model = pickle.load(model_file)\n",
        "\n",
        "# Use the loaded model to make predictions\n",
        "loaded_predictions = loaded_model.predict(X_test)\n",
        "\n",
        "# Evaluate the loaded model's performance\n",
        "accuracy_loaded_model = accuracy_score(y_test, loaded_predictions)\n",
        "print(f'Accuracy for Loaded XGBoost Model: {accuracy_loaded_model:.2f}')"
      ],
      "metadata": {
        "colab": {
          "base_uri": "https://localhost:8080/"
        },
        "id": "0fySPA8Gcqda",
        "outputId": "2937b8df-22f4-48a8-dec6-192d4b3c1653"
      },
      "execution_count": 37,
      "outputs": [
        {
          "output_type": "stream",
          "name": "stdout",
          "text": [
            "Accuracy for Loaded XGBoost Model: 0.86\n"
          ]
        }
      ]
    }
  ]
}